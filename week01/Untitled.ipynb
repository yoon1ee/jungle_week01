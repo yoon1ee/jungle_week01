{
 "cells": [
  {
   "cell_type": "code",
   "execution_count": 1,
   "id": "84b529cf-7e64-43a7-935b-200a6516183f",
   "metadata": {},
   "outputs": [],
   "source": [
    "import sys"
   ]
  },
  {
   "cell_type": "code",
   "execution_count": 2,
   "id": "0cd9ca94-3766-460a-bd99-77d927c5def9",
   "metadata": {},
   "outputs": [],
   "source": [
    "a = 123"
   ]
  },
  {
   "cell_type": "code",
   "execution_count": 4,
   "id": "5176a0cd-0667-49c5-8647-fe548ff026df",
   "metadata": {},
   "outputs": [
    {
     "name": "stdout",
     "output_type": "stream",
     "text": [
      "[1, 2, 3]\n"
     ]
    }
   ],
   "source": [
    "print(list(map(int, list(str(a)))))"
   ]
  },
  {
   "cell_type": "code",
   "execution_count": 5,
   "id": "c42cca0d-9a0b-4397-8d9d-cb6ce60e25ec",
   "metadata": {},
   "outputs": [
    {
     "ename": "ValueError",
     "evalue": "invalid literal for int() with base 10: ''",
     "output_type": "error",
     "traceback": [
      "\u001b[0;31m---------------------------------------------------------------------------\u001b[0m",
      "\u001b[0;31mValueError\u001b[0m                                Traceback (most recent call last)",
      "\u001b[0;32m/var/folders/r7/7x2__3ms6933lhq98cvf4rzm0000gn/T/ipykernel_34531/401528881.py\u001b[0m in \u001b[0;36m<module>\u001b[0;34m\u001b[0m\n\u001b[1;32m      1\u001b[0m \u001b[0;32mimport\u001b[0m \u001b[0msys\u001b[0m\u001b[0;34m\u001b[0m\u001b[0;34m\u001b[0m\u001b[0m\n\u001b[1;32m      2\u001b[0m \u001b[0;34m\u001b[0m\u001b[0m\n\u001b[0;32m----> 3\u001b[0;31m \u001b[0mn\u001b[0m \u001b[0;34m=\u001b[0m \u001b[0mint\u001b[0m\u001b[0;34m(\u001b[0m\u001b[0msys\u001b[0m\u001b[0;34m.\u001b[0m\u001b[0mstdin\u001b[0m\u001b[0;34m.\u001b[0m\u001b[0mreadline\u001b[0m\u001b[0;34m(\u001b[0m\u001b[0;34m)\u001b[0m\u001b[0;34m)\u001b[0m\u001b[0;34m\u001b[0m\u001b[0;34m\u001b[0m\u001b[0m\n\u001b[0m\u001b[1;32m      4\u001b[0m \u001b[0;34m\u001b[0m\u001b[0m\n\u001b[1;32m      5\u001b[0m \u001b[0mdata\u001b[0m \u001b[0;34m=\u001b[0m \u001b[0;34m[\u001b[0m\u001b[0msys\u001b[0m\u001b[0;34m.\u001b[0m\u001b[0mstdin\u001b[0m\u001b[0;34m.\u001b[0m\u001b[0mreadline\u001b[0m\u001b[0;34m(\u001b[0m\u001b[0;34m)\u001b[0m\u001b[0;34m.\u001b[0m\u001b[0mstrip\u001b[0m\u001b[0;34m(\u001b[0m\u001b[0;34m)\u001b[0m \u001b[0;32mfor\u001b[0m \u001b[0mi\u001b[0m \u001b[0;32min\u001b[0m \u001b[0mrange\u001b[0m\u001b[0;34m(\u001b[0m\u001b[0mn\u001b[0m\u001b[0;34m)\u001b[0m\u001b[0;34m]\u001b[0m\u001b[0;34m\u001b[0m\u001b[0;34m\u001b[0m\u001b[0m\n",
      "\u001b[0;31mValueError\u001b[0m: invalid literal for int() with base 10: ''"
     ]
    }
   ],
   "source": [
    "import sys\n",
    "\n",
    "n = int(sys.stdin.readline())\n",
    "\n",
    "data = [sys.stdin.readline().strip() for i in range(n)]\n",
    "\n",
    "print(data)"
   ]
  },
  {
   "cell_type": "code",
   "execution_count": 89,
   "id": "6608afcf-97f4-44ef-9153-89cadafc3a65",
   "metadata": {},
   "outputs": [],
   "source": [
    "a = 472\n",
    "b = 385"
   ]
  },
  {
   "cell_type": "code",
   "execution_count": 57,
   "id": "40ab7bf9-da39-4300-8a8a-417797613b89",
   "metadata": {},
   "outputs": [],
   "source": [
    "a_list = list(map(int, str(a)))"
   ]
  },
  {
   "cell_type": "code",
   "execution_count": 58,
   "id": "ba0e37a8-d37a-43b6-8138-2b473dd09311",
   "metadata": {},
   "outputs": [],
   "source": [
    "b_list = list(map(int, str(b)))"
   ]
  },
  {
   "cell_type": "code",
   "execution_count": 43,
   "id": "98b5eb93-aa91-4531-a7b7-83ea41753f7c",
   "metadata": {},
   "outputs": [
    {
     "name": "stdout",
     "output_type": "stream",
     "text": [
      "[3, 8, 5]\n"
     ]
    }
   ],
   "source": [
    "print(b_list)"
   ]
  },
  {
   "cell_type": "code",
   "execution_count": 19,
   "id": "dfad1890-3a1e-4f44-8f25-35996659d578",
   "metadata": {},
   "outputs": [
    {
     "data": {
      "text/plain": [
       "6"
      ]
     },
     "execution_count": 19,
     "metadata": {},
     "output_type": "execute_result"
    }
   ],
   "source": [
    "b_list.pop()"
   ]
  },
  {
   "cell_type": "code",
   "execution_count": 24,
   "id": "0efff2aa-ea81-4e73-bfa4-9d5af6d0eaec",
   "metadata": {},
   "outputs": [],
   "source": [
    "b_list.append(6)"
   ]
  },
  {
   "cell_type": "code",
   "execution_count": 37,
   "id": "e3cc2c39-d137-4de6-87d3-5e33ef877d46",
   "metadata": {},
   "outputs": [
    {
     "data": {
      "text/plain": [
       "[4, 5, 6]"
      ]
     },
     "execution_count": 37,
     "metadata": {},
     "output_type": "execute_result"
    }
   ],
   "source": [
    "b_list"
   ]
  },
  {
   "cell_type": "code",
   "execution_count": 22,
   "id": "e500f75e-e992-4f1f-8ef6-7eb2b46cabe5",
   "metadata": {},
   "outputs": [
    {
     "name": "stdout",
     "output_type": "stream",
     "text": [
      "738\n"
     ]
    }
   ],
   "source": [
    "print(a*b_list.pop())"
   ]
  },
  {
   "cell_type": "code",
   "execution_count": 35,
   "id": "e175a594-4f2f-4ec4-9820-77fe6b33f31b",
   "metadata": {},
   "outputs": [
    {
     "name": "stdout",
     "output_type": "stream",
     "text": [
      "1\n",
      "2\n",
      "3\n"
     ]
    }
   ],
   "source": [
    "for i in range(1, 4):\n",
    "    print(i)"
   ]
  },
  {
   "cell_type": "code",
   "execution_count": 44,
   "id": "099de357-500b-4023-897e-f7430c16db5a",
   "metadata": {},
   "outputs": [
    {
     "name": "stdout",
     "output_type": "stream",
     "text": [
      "2360\n",
      "3776\n",
      "1416\n"
     ]
    }
   ],
   "source": [
    "print(a*b_list.pop())\n",
    "print(a*b_list.pop())\n",
    "print(a*b_list.pop())"
   ]
  },
  {
   "cell_type": "code",
   "execution_count": 78,
   "id": "e06fe07b-6bd4-47f5-86cd-c3b9211fe144",
   "metadata": {},
   "outputs": [
    {
     "name": "stdout",
     "output_type": "stream",
     "text": [
      "\n",
      "2360\n",
      "37760\n",
      "141600\n",
      "181720\n",
      "\n"
     ]
    }
   ],
   "source": [
    "a_list = list(map(int, str(a)))\n",
    "b_list = list(map(int, str(b)))\n",
    "x = a*b_list.pop()\n",
    "y = a*b_list.pop()*10\n",
    "z = a*b_list.pop()*100\n",
    "q = x+y+z\n",
    "result = \"\"\"\n",
    "%s\n",
    "%s\n",
    "%s\n",
    "%s\n",
    "\"\"\" % (x, y, z, q)\n",
    "print(result)"
   ]
  },
  {
   "cell_type": "code",
   "execution_count": 66,
   "id": "c1433862-cd29-445c-b283-69c335b7d3ef",
   "metadata": {},
   "outputs": [
    {
     "ename": "ValueError",
     "evalue": "not enough values to unpack (expected 2, got 0)",
     "output_type": "error",
     "traceback": [
      "\u001b[0;31m---------------------------------------------------------------------------\u001b[0m",
      "\u001b[0;31mValueError\u001b[0m                                Traceback (most recent call last)",
      "\u001b[0;32m/var/folders/r7/7x2__3ms6933lhq98cvf4rzm0000gn/T/ipykernel_34531/2083306826.py\u001b[0m in \u001b[0;36m<module>\u001b[0;34m\u001b[0m\n\u001b[1;32m      1\u001b[0m \u001b[0;32mimport\u001b[0m \u001b[0msys\u001b[0m\u001b[0;34m\u001b[0m\u001b[0;34m\u001b[0m\u001b[0m\n\u001b[1;32m      2\u001b[0m \u001b[0;34m\u001b[0m\u001b[0m\n\u001b[0;32m----> 3\u001b[0;31m \u001b[0ma\u001b[0m\u001b[0;34m,\u001b[0m \u001b[0mb\u001b[0m \u001b[0;34m=\u001b[0m \u001b[0mmap\u001b[0m\u001b[0;34m(\u001b[0m\u001b[0mint\u001b[0m\u001b[0;34m,\u001b[0m \u001b[0msys\u001b[0m\u001b[0;34m.\u001b[0m\u001b[0mstdin\u001b[0m\u001b[0;34m.\u001b[0m\u001b[0mreadline\u001b[0m\u001b[0;34m(\u001b[0m\u001b[0;34m)\u001b[0m\u001b[0;34m.\u001b[0m\u001b[0msplit\u001b[0m\u001b[0;34m(\u001b[0m\u001b[0;34m)\u001b[0m\u001b[0;34m)\u001b[0m\u001b[0;34m\u001b[0m\u001b[0;34m\u001b[0m\u001b[0m\n\u001b[0m\u001b[1;32m      4\u001b[0m \u001b[0mprint\u001b[0m\u001b[0;34m(\u001b[0m\u001b[0ma\u001b[0m\u001b[0;34m,\u001b[0m \u001b[0mb\u001b[0m\u001b[0;34m)\u001b[0m\u001b[0;34m\u001b[0m\u001b[0;34m\u001b[0m\u001b[0m\n\u001b[1;32m      5\u001b[0m \u001b[0;34m\u001b[0m\u001b[0m\n",
      "\u001b[0;31mValueError\u001b[0m: not enough values to unpack (expected 2, got 0)"
     ]
    }
   ],
   "source": [
    "import sys\n",
    "\n",
    "a, b = map(int, sys.stdin.readline().split())\n",
    "print(a, b)\n",
    "\n",
    "# data = [sys.stdin.readline().strip() for i in range(n)]\n",
    "\n",
    "# print(data)"
   ]
  },
  {
   "cell_type": "code",
   "execution_count": 68,
   "id": "c08e4eb2-bf20-4e72-b631-4c775d82edda",
   "metadata": {},
   "outputs": [
    {
     "name": "stdin",
     "output_type": "stream",
     "text": [
      " a\n"
     ]
    }
   ],
   "source": [
    "import sys\n",
    "\n",
    "# a, b = map(int, sys.stdin.readline().split())\n",
    "# print(a, b)\n",
    "\n",
    "a = input()"
   ]
  },
  {
   "cell_type": "code",
   "execution_count": 74,
   "id": "791d1596-097d-4ca9-b9e1-8f19f2477f40",
   "metadata": {},
   "outputs": [],
   "source": [
    "a = sys.stdin.readline().split()\n",
    "b = sys.stdin.readline().split()"
   ]
  },
  {
   "cell_type": "markdown",
   "id": "70531cb1-c02b-4018-8815-fbb22620554e",
   "metadata": {},
   "source": [
    "a = input()\n",
    "b = input()\n",
    "\n",
    "a_list = list(map(int, str(a)))\n",
    "b_list = list(map(int, str(b)))\n",
    "x = a*b_list.pop()\n",
    "y = a*b_list.pop()*10\n",
    "z = a*b_list.pop()*100\n",
    "q = x+y+z\n",
    "result = \"\"\"\n",
    "%s\n",
    "%s\n",
    "%s\n",
    "%s\n",
    "\"\"\" % (x, y, z, q)\n",
    "print(result)"
   ]
  },
  {
   "cell_type": "code",
   "execution_count": 97,
   "id": "936ddb7a-3e5a-41e5-8776-c3e4df3633a0",
   "metadata": {},
   "outputs": [
    {
     "ename": "TypeError",
     "evalue": "int() argument must be a string, a bytes-like object or a number, not 'list'",
     "output_type": "error",
     "traceback": [
      "\u001b[0;31m---------------------------------------------------------------------------\u001b[0m",
      "\u001b[0;31mTypeError\u001b[0m                                 Traceback (most recent call last)",
      "\u001b[0;32m/var/folders/r7/7x2__3ms6933lhq98cvf4rzm0000gn/T/ipykernel_34531/692452221.py\u001b[0m in \u001b[0;36m<module>\u001b[0;34m\u001b[0m\n\u001b[1;32m      1\u001b[0m \u001b[0;31m# a = int(input())\u001b[0m\u001b[0;34m\u001b[0m\u001b[0;34m\u001b[0m\u001b[0;34m\u001b[0m\u001b[0m\n\u001b[1;32m      2\u001b[0m \u001b[0;31m# b = int(input())\u001b[0m\u001b[0;34m\u001b[0m\u001b[0;34m\u001b[0m\u001b[0;34m\u001b[0m\u001b[0m\n\u001b[0;32m----> 3\u001b[0;31m \u001b[0ma\u001b[0m \u001b[0;34m=\u001b[0m \u001b[0mint\u001b[0m\u001b[0;34m(\u001b[0m\u001b[0msys\u001b[0m\u001b[0;34m.\u001b[0m\u001b[0mstdin\u001b[0m\u001b[0;34m.\u001b[0m\u001b[0mreadline\u001b[0m\u001b[0;34m(\u001b[0m\u001b[0;34m)\u001b[0m\u001b[0;34m.\u001b[0m\u001b[0msplit\u001b[0m\u001b[0;34m(\u001b[0m\u001b[0;34m)\u001b[0m\u001b[0;34m)\u001b[0m\u001b[0;34m\u001b[0m\u001b[0;34m\u001b[0m\u001b[0m\n\u001b[0m\u001b[1;32m      4\u001b[0m \u001b[0mb\u001b[0m \u001b[0;34m=\u001b[0m \u001b[0mint\u001b[0m\u001b[0;34m(\u001b[0m\u001b[0msys\u001b[0m\u001b[0;34m.\u001b[0m\u001b[0mstdin\u001b[0m\u001b[0;34m.\u001b[0m\u001b[0mreadline\u001b[0m\u001b[0;34m(\u001b[0m\u001b[0;34m)\u001b[0m\u001b[0;34m.\u001b[0m\u001b[0msplit\u001b[0m\u001b[0;34m(\u001b[0m\u001b[0;34m)\u001b[0m\u001b[0;34m)\u001b[0m\u001b[0;34m\u001b[0m\u001b[0;34m\u001b[0m\u001b[0m\n\u001b[1;32m      5\u001b[0m \u001b[0;34m\u001b[0m\u001b[0m\n",
      "\u001b[0;31mTypeError\u001b[0m: int() argument must be a string, a bytes-like object or a number, not 'list'"
     ]
    }
   ],
   "source": [
    "# a = int(input())\n",
    "# b = int(input())\n",
    "a = int(sys.stdin.readline().split())\n",
    "b = int(sys.stdin.readline().split())\n",
    "\n",
    "a_list = list(map(int, str(a)))\n",
    "b_list = list(map(int,str(b)))\n",
    "\n",
    "c = b_list.pop()\n",
    "\n",
    "x = a*c\n",
    "c = b_list.pop()\n",
    "y = a*c*10\n",
    "c = b_list.pop()\n",
    "z = a*c*100\n",
    "q = x+y+z\n",
    "result = \"\"\"\n",
    "%s\n",
    "%s\n",
    "%s\n",
    "%s\n",
    "\"\"\" % (x, y, z, q)\n",
    "print(result)"
   ]
  },
  {
   "cell_type": "code",
   "execution_count": 106,
   "id": "c37999fb-2e23-4a7a-8150-69a449424f53",
   "metadata": {},
   "outputs": [
    {
     "name": "stdin",
     "output_type": "stream",
     "text": [
      " 472\n",
      " 385\n"
     ]
    },
    {
     "name": "stdout",
     "output_type": "stream",
     "text": [
      "2360\n",
      "3776\n",
      "1416\n",
      "181720\n"
     ]
    }
   ],
   "source": [
    "a = int(input())\n",
    "b = int(input())\n",
    "# import sys\n",
    "\n",
    "# a = sys.stdin.readline()\n",
    "# b = sys.stdin.readline()\n",
    "\n",
    "a_list = list(map(int, str(a)))\n",
    "b_list = list(map(int, str(b)))\n",
    "x = a*b_list.pop()\n",
    "y = a*b_list.pop()\n",
    "y_ = y*10\n",
    "z = a*b_list.pop()\n",
    "z_ = z*100\n",
    "q = x+y_+z_\n",
    "result = \"\"\"\n",
    "%s\n",
    "%s\n",
    "%s\n",
    "%s\n",
    "\"\"\" % (x, y, z, q)\n",
    "print(x)\n",
    "print(y)\n",
    "print(z)\n",
    "print(q)"
   ]
  },
  {
   "cell_type": "code",
   "execution_count": 103,
   "id": "7732cf4e-5fdd-4f63-b77d-9004b0486a86",
   "metadata": {},
   "outputs": [
    {
     "name": "stdout",
     "output_type": "stream",
     "text": [
      "a\n"
     ]
    }
   ],
   "source": [
    "print(\"a\")"
   ]
  },
  {
   "cell_type": "code",
   "execution_count": 109,
   "id": "27223757-6de8-493d-b2a7-af46686ed7e8",
   "metadata": {},
   "outputs": [
    {
     "name": "stdin",
     "output_type": "stream",
     "text": [
      " 100\n"
     ]
    },
    {
     "name": "stdout",
     "output_type": "stream",
     "text": [
      "A\n"
     ]
    }
   ],
   "source": [
    "score = int(input())\n",
    "\n",
    "if score >= 90:\n",
    "    print(\"A\")\n",
    "elif score >= 80:\n",
    "    print(\"B\")\n",
    "elif score >= 70:\n",
    "    print(\"C\")\n",
    "elif score >= 60:\n",
    "    print(\"D\")\n",
    "else:\n",
    "    print(\"F\")"
   ]
  },
  {
   "cell_type": "code",
   "execution_count": 112,
   "id": "4f3748f5-be94-4bb8-96d8-8171331fe51a",
   "metadata": {},
   "outputs": [
    {
     "name": "stdin",
     "output_type": "stream",
     "text": [
      " 2012\n"
     ]
    },
    {
     "name": "stdout",
     "output_type": "stream",
     "text": [
      "1\n"
     ]
    }
   ],
   "source": [
    "year = int(input())\n",
    "\n",
    "if year%4 == 0 and year%100 != 0:\n",
    "    print(1)\n",
    "elif year%400 == 0:\n",
    "    print(1)\n",
    "else:\n",
    "    print(0)"
   ]
  },
  {
   "cell_type": "code",
   "execution_count": 118,
   "id": "bb2f01e5-034e-4e34-bb01-2bc293dc3ed0",
   "metadata": {},
   "outputs": [
    {
     "name": "stdin",
     "output_type": "stream",
     "text": [
      " 1 3 5 7\n"
     ]
    }
   ],
   "source": [
    "x, y, w, h = map(int, input().split())"
   ]
  },
  {
   "cell_type": "code",
   "execution_count": 123,
   "id": "ad90603d-f10b-49ce-8e80-791ad605291c",
   "metadata": {},
   "outputs": [],
   "source": [
    "tmp = [x, y, w, h]"
   ]
  },
  {
   "cell_type": "code",
   "execution_count": 124,
   "id": "e31a8d3b-13cf-4edb-879c-4dbc6164b177",
   "metadata": {},
   "outputs": [
    {
     "data": {
      "text/plain": [
       "1"
      ]
     },
     "execution_count": 124,
     "metadata": {},
     "output_type": "execute_result"
    }
   ],
   "source": [
    "min(tmp)"
   ]
  },
  {
   "cell_type": "code",
   "execution_count": 126,
   "id": "329f503a-6175-4173-9cdc-5541679e2c40",
   "metadata": {},
   "outputs": [
    {
     "name": "stdout",
     "output_type": "stream",
     "text": [
      "1\n"
     ]
    }
   ],
   "source": [
    "print(min(x, y, w-x, h-y))"
   ]
  },
  {
   "cell_type": "code",
   "execution_count": 130,
   "id": "580654e8-9408-4adb-bb7a-014e3bda6387",
   "metadata": {},
   "outputs": [
    {
     "name": "stdin",
     "output_type": "stream",
     "text": [
      " 5\n"
     ]
    },
    {
     "name": "stdout",
     "output_type": "stream",
     "text": [
      "5 * 1 = 5\n",
      "5 * 2 = 10\n",
      "5 * 3 = 15\n",
      "5 * 4 = 20\n",
      "5 * 5 = 25\n",
      "5 * 6 = 30\n",
      "5 * 7 = 35\n",
      "5 * 8 = 40\n",
      "5 * 9 = 45\n"
     ]
    }
   ],
   "source": [
    "num = int(input())\n",
    "\n",
    "for i in range(1, 10):\n",
    "    print(num, \"*\", i, \"=\", num*i) "
   ]
  },
  {
   "cell_type": "code",
   "execution_count": 133,
   "id": "1b976aa2-3ae2-4711-9f11-781ae6da53c7",
   "metadata": {},
   "outputs": [],
   "source": [
    "import sys\n",
    "for line in sys.stdin:\n",
    "     a, b = map(int, line.split())\n",
    "     print(a + b)"
   ]
  },
  {
   "cell_type": "markdown",
   "id": "e46bbc0f-d96c-4780-bb6f-e7c7f58e626e",
   "metadata": {},
   "source": [
    "graph = [input() for _ in range(a)]"
   ]
  },
  {
   "cell_type": "code",
   "execution_count": 134,
   "id": "0af7556c-fc5a-42fb-9b03-82df9c233af4",
   "metadata": {},
   "outputs": [
    {
     "data": {
      "text/plain": [
       "1"
      ]
     },
     "execution_count": 134,
     "metadata": {},
     "output_type": "execute_result"
    }
   ],
   "source": [
    "1"
   ]
  },
  {
   "cell_type": "code",
   "execution_count": 135,
   "id": "6c874e9c-d8ff-43e0-a39f-a4a91d214937",
   "metadata": {},
   "outputs": [
    {
     "name": "stdin",
     "output_type": "stream",
     "text": [
      " 3\n",
      " 4\n",
      " 5\n",
      " 6\n",
      " 7\n",
      " 8\n",
      " 1\n"
     ]
    },
    {
     "ename": "KeyboardInterrupt",
     "evalue": "Interrupted by user",
     "output_type": "error",
     "traceback": [
      "\u001b[0;31m---------------------------------------------------------------------------\u001b[0m",
      "\u001b[0;31mKeyboardInterrupt\u001b[0m                         Traceback (most recent call last)",
      "\u001b[0;32m/var/folders/r7/7x2__3ms6933lhq98cvf4rzm0000gn/T/ipykernel_34531/1906055595.py\u001b[0m in \u001b[0;36m<module>\u001b[0;34m\u001b[0m\n\u001b[0;32m----> 1\u001b[0;31m \u001b[0mgraph\u001b[0m \u001b[0;34m=\u001b[0m \u001b[0;34m[\u001b[0m\u001b[0minput\u001b[0m\u001b[0;34m(\u001b[0m\u001b[0;34m)\u001b[0m \u001b[0;32mfor\u001b[0m \u001b[0m_\u001b[0m \u001b[0;32min\u001b[0m \u001b[0mrange\u001b[0m\u001b[0;34m(\u001b[0m\u001b[0ma\u001b[0m\u001b[0;34m)\u001b[0m\u001b[0;34m]\u001b[0m\u001b[0;34m\u001b[0m\u001b[0;34m\u001b[0m\u001b[0m\n\u001b[0m",
      "\u001b[0;32m/var/folders/r7/7x2__3ms6933lhq98cvf4rzm0000gn/T/ipykernel_34531/1906055595.py\u001b[0m in \u001b[0;36m<listcomp>\u001b[0;34m(.0)\u001b[0m\n\u001b[0;32m----> 1\u001b[0;31m \u001b[0mgraph\u001b[0m \u001b[0;34m=\u001b[0m \u001b[0;34m[\u001b[0m\u001b[0minput\u001b[0m\u001b[0;34m(\u001b[0m\u001b[0;34m)\u001b[0m \u001b[0;32mfor\u001b[0m \u001b[0m_\u001b[0m \u001b[0;32min\u001b[0m \u001b[0mrange\u001b[0m\u001b[0;34m(\u001b[0m\u001b[0ma\u001b[0m\u001b[0;34m)\u001b[0m\u001b[0;34m]\u001b[0m\u001b[0;34m\u001b[0m\u001b[0;34m\u001b[0m\u001b[0m\n\u001b[0m",
      "\u001b[0;32m~/miniconda3/lib/python3.8/site-packages/ipykernel/kernelbase.py\u001b[0m in \u001b[0;36mraw_input\u001b[0;34m(self, prompt)\u001b[0m\n\u001b[1;32m   1004\u001b[0m                 \u001b[0;34m\"raw_input was called, but this frontend does not support input requests.\"\u001b[0m\u001b[0;34m\u001b[0m\u001b[0;34m\u001b[0m\u001b[0m\n\u001b[1;32m   1005\u001b[0m             )\n\u001b[0;32m-> 1006\u001b[0;31m         return self._input_request(\n\u001b[0m\u001b[1;32m   1007\u001b[0m             \u001b[0mstr\u001b[0m\u001b[0;34m(\u001b[0m\u001b[0mprompt\u001b[0m\u001b[0;34m)\u001b[0m\u001b[0;34m,\u001b[0m\u001b[0;34m\u001b[0m\u001b[0;34m\u001b[0m\u001b[0m\n\u001b[1;32m   1008\u001b[0m             \u001b[0mself\u001b[0m\u001b[0;34m.\u001b[0m\u001b[0m_parent_ident\u001b[0m\u001b[0;34m[\u001b[0m\u001b[0;34m\"shell\"\u001b[0m\u001b[0;34m]\u001b[0m\u001b[0;34m,\u001b[0m\u001b[0;34m\u001b[0m\u001b[0;34m\u001b[0m\u001b[0m\n",
      "\u001b[0;32m~/miniconda3/lib/python3.8/site-packages/ipykernel/kernelbase.py\u001b[0m in \u001b[0;36m_input_request\u001b[0;34m(self, prompt, ident, parent, password)\u001b[0m\n\u001b[1;32m   1049\u001b[0m             \u001b[0;32mexcept\u001b[0m \u001b[0mKeyboardInterrupt\u001b[0m\u001b[0;34m:\u001b[0m\u001b[0;34m\u001b[0m\u001b[0;34m\u001b[0m\u001b[0m\n\u001b[1;32m   1050\u001b[0m                 \u001b[0;31m# re-raise KeyboardInterrupt, to truncate traceback\u001b[0m\u001b[0;34m\u001b[0m\u001b[0;34m\u001b[0m\u001b[0;34m\u001b[0m\u001b[0m\n\u001b[0;32m-> 1051\u001b[0;31m                 \u001b[0;32mraise\u001b[0m \u001b[0mKeyboardInterrupt\u001b[0m\u001b[0;34m(\u001b[0m\u001b[0;34m\"Interrupted by user\"\u001b[0m\u001b[0;34m)\u001b[0m \u001b[0;32mfrom\u001b[0m \u001b[0;32mNone\u001b[0m\u001b[0;34m\u001b[0m\u001b[0;34m\u001b[0m\u001b[0m\n\u001b[0m\u001b[1;32m   1052\u001b[0m             \u001b[0;32mexcept\u001b[0m \u001b[0mException\u001b[0m\u001b[0;34m:\u001b[0m\u001b[0;34m\u001b[0m\u001b[0;34m\u001b[0m\u001b[0m\n\u001b[1;32m   1053\u001b[0m                 \u001b[0mself\u001b[0m\u001b[0;34m.\u001b[0m\u001b[0mlog\u001b[0m\u001b[0;34m.\u001b[0m\u001b[0mwarning\u001b[0m\u001b[0;34m(\u001b[0m\u001b[0;34m\"Invalid Message:\"\u001b[0m\u001b[0;34m,\u001b[0m \u001b[0mexc_info\u001b[0m\u001b[0;34m=\u001b[0m\u001b[0;32mTrue\u001b[0m\u001b[0;34m)\u001b[0m\u001b[0;34m\u001b[0m\u001b[0;34m\u001b[0m\u001b[0m\n",
      "\u001b[0;31mKeyboardInterrupt\u001b[0m: Interrupted by user"
     ]
    }
   ],
   "source": [
    "graph = [input() for _ in range(a)]"
   ]
  },
  {
   "cell_type": "code",
   "execution_count": 136,
   "id": "a50b0b02-d67b-483f-aec1-72244f5bacfc",
   "metadata": {},
   "outputs": [
    {
     "name": "stdin",
     "output_type": "stream",
     "text": [
      " 2\n",
      " 3\n",
      " 1\n"
     ]
    }
   ],
   "source": [
    "graph = [input() for _ in range(3)]"
   ]
  },
  {
   "cell_type": "code",
   "execution_count": 137,
   "id": "ff6c5cc5-319a-4e37-b245-378a21500a08",
   "metadata": {},
   "outputs": [
    {
     "data": {
      "text/plain": [
       "['2', '3', '1']"
      ]
     },
     "execution_count": 137,
     "metadata": {},
     "output_type": "execute_result"
    }
   ],
   "source": [
    "graph"
   ]
  },
  {
   "cell_type": "markdown",
   "id": "cb47e8f4-f532-4d85-89b8-ccc0f2a39616",
   "metadata": {},
   "source": [
    "graph = [input() for _ in range(6)]"
   ]
  },
  {
   "cell_type": "code",
   "execution_count": 139,
   "id": "e4d81a5a-7d68-4bf7-8b78-cc2b779ff6a1",
   "metadata": {},
   "outputs": [],
   "source": [
    "n = sys.stdin.readline()"
   ]
  },
  {
   "cell_type": "code",
   "execution_count": 143,
   "id": "dd2be354-bb2f-48d7-bed8-db0eac396f3d",
   "metadata": {},
   "outputs": [
    {
     "ename": "TypeError",
     "evalue": "'str' object cannot be interpreted as an integer",
     "output_type": "error",
     "traceback": [
      "\u001b[0;31m---------------------------------------------------------------------------\u001b[0m",
      "\u001b[0;31mTypeError\u001b[0m                                 Traceback (most recent call last)",
      "\u001b[0;32m/var/folders/r7/7x2__3ms6933lhq98cvf4rzm0000gn/T/ipykernel_34531/972677151.py\u001b[0m in \u001b[0;36m<module>\u001b[0;34m\u001b[0m\n\u001b[0;32m----> 1\u001b[0;31m \u001b[0mtmp\u001b[0m \u001b[0;34m=\u001b[0m \u001b[0;34m[\u001b[0m\u001b[0msys\u001b[0m\u001b[0;34m.\u001b[0m\u001b[0mstdin\u001b[0m\u001b[0;34m.\u001b[0m\u001b[0mreadline\u001b[0m\u001b[0;34m(\u001b[0m\u001b[0;34m)\u001b[0m \u001b[0;32mfor\u001b[0m \u001b[0m_\u001b[0m \u001b[0;32min\u001b[0m \u001b[0mrange\u001b[0m\u001b[0;34m(\u001b[0m\u001b[0mn\u001b[0m\u001b[0;34m)\u001b[0m\u001b[0;34m]\u001b[0m\u001b[0;34m\u001b[0m\u001b[0;34m\u001b[0m\u001b[0m\n\u001b[0m",
      "\u001b[0;31mTypeError\u001b[0m: 'str' object cannot be interpreted as an integer"
     ]
    }
   ],
   "source": [
    "tmp = [sys.stdin.readline() for _ in range(n)]"
   ]
  },
  {
   "cell_type": "code",
   "execution_count": 146,
   "id": "6d278f0b-4e41-4294-836f-9626aa5bc212",
   "metadata": {},
   "outputs": [
    {
     "name": "stdin",
     "output_type": "stream",
     "text": [
      " 5\n"
     ]
    }
   ],
   "source": [
    "n = int(input())"
   ]
  },
  {
   "cell_type": "code",
   "execution_count": 150,
   "id": "4dc2516b-2268-4e24-aa62-e3919b74cfdf",
   "metadata": {},
   "outputs": [
    {
     "name": "stdin",
     "output_type": "stream",
     "text": [
      " 1 1\n",
      " 2 3\n",
      " 3 4\n",
      " 9 8\n",
      " 5 2\n"
     ]
    }
   ],
   "source": [
    "tmp = [input() for _ in range(n)]"
   ]
  },
  {
   "cell_type": "code",
   "execution_count": 151,
   "id": "56c4df5e-dd1e-43b9-b68e-87a92bf82e57",
   "metadata": {},
   "outputs": [
    {
     "data": {
      "text/plain": [
       "['1 1', '2 3', '3 4', '9 8', '5 2']"
      ]
     },
     "execution_count": 151,
     "metadata": {},
     "output_type": "execute_result"
    }
   ],
   "source": [
    "tmp"
   ]
  },
  {
   "cell_type": "code",
   "execution_count": 153,
   "id": "30ea5847-aec0-486b-9414-99dc68c64a32",
   "metadata": {},
   "outputs": [
    {
     "name": "stdout",
     "output_type": "stream",
     "text": [
      "2\n",
      "5\n",
      "7\n",
      "17\n",
      "7\n"
     ]
    }
   ],
   "source": [
    "for i in tmp:\n",
    "    a, b = map(int, i.split(\" \"))\n",
    "    print(a+b)"
   ]
  },
  {
   "cell_type": "code",
   "execution_count": 154,
   "id": "17a845eb-3e08-4a7c-9855-5af9efd78da2",
   "metadata": {},
   "outputs": [
    {
     "name": "stdin",
     "output_type": "stream",
     "text": [
      " 5\n"
     ]
    }
   ],
   "source": [
    "n = int(input())"
   ]
  },
  {
   "cell_type": "code",
   "execution_count": 157,
   "id": "5907bec3-9141-401b-98d6-47f071b29320",
   "metadata": {},
   "outputs": [
    {
     "name": "stdout",
     "output_type": "stream",
     "text": [
      "*\n",
      "**\n",
      "***\n",
      "****\n",
      "*****\n"
     ]
    }
   ],
   "source": [
    "for i in range(1, n+1):\n",
    "    print(\"*\"*i)"
   ]
  },
  {
   "cell_type": "code",
   "execution_count": 160,
   "id": "b6268b2d-479f-49ed-94ee-ca12257cee98",
   "metadata": {},
   "outputs": [
    {
     "name": "stdin",
     "output_type": "stream",
     "text": [
      " 10 5\n"
     ]
    }
   ],
   "source": [
    "n, x = map(int, input().split())"
   ]
  },
  {
   "cell_type": "code",
   "execution_count": 161,
   "id": "4b44f16e-442b-4918-9481-7643667eeb3a",
   "metadata": {},
   "outputs": [
    {
     "name": "stdin",
     "output_type": "stream",
     "text": [
      " 1 10 4 9 2 3 8 5 7 6\n"
     ]
    }
   ],
   "source": [
    "tmp = list(map(int, input().split()))"
   ]
  },
  {
   "cell_type": "code",
   "execution_count": 162,
   "id": "ca7c440f-56c0-4afe-90d9-67f2d1f0d05e",
   "metadata": {},
   "outputs": [
    {
     "data": {
      "text/plain": [
       "[1, 10, 4, 9, 2, 3, 8, 5, 7, 6]"
      ]
     },
     "execution_count": 162,
     "metadata": {},
     "output_type": "execute_result"
    }
   ],
   "source": [
    "tmp"
   ]
  },
  {
   "cell_type": "code",
   "execution_count": 167,
   "id": "89f0e1d3-a40e-4ac6-b8de-55d80aabbe26",
   "metadata": {},
   "outputs": [
    {
     "name": "stdout",
     "output_type": "stream",
     "text": [
      "[1, 4, 2, 3]\n"
     ]
    }
   ],
   "source": [
    "ans = []\n",
    "\n",
    "for i in tmp:\n",
    "    if i < x:\n",
    "        ans.append(i)\n",
    "print(ans)\n"
   ]
  },
  {
   "cell_type": "code",
   "execution_count": 171,
   "id": "7dd15909-d942-4742-99ac-5e7f71df01db",
   "metadata": {},
   "outputs": [
    {
     "name": "stdout",
     "output_type": "stream",
     "text": [
      "1 4 2 3 "
     ]
    }
   ],
   "source": [
    "for i in range(x-1):\n",
    "    print(ans[i], end=' ')"
   ]
  },
  {
   "cell_type": "code",
   "execution_count": 175,
   "id": "24c990b2-2735-47cc-930a-01512cdf2836",
   "metadata": {},
   "outputs": [
    {
     "name": "stdin",
     "output_type": "stream",
     "text": [
      " 10 5\n",
      " 1 10 4 9 2 3 8 5 7 6\n"
     ]
    },
    {
     "name": "stdout",
     "output_type": "stream",
     "text": [
      "1 4 2 3 "
     ]
    }
   ],
   "source": [
    "import sys\n",
    "n, x = map(int,input().split())\n",
    "tmp = list(map(int, input().split()))\n",
    "ans = []\n",
    "for i in tmp:\n",
    "    if i < x:\n",
    "        ans.append(i)\n",
    "for i in range(x-1):\n",
    "    print(ans[i], end=\" \")"
   ]
  },
  {
   "cell_type": "code",
   "execution_count": 173,
   "id": "afe0bbb7-a6c4-41e0-b1a2-1c5d964fab02",
   "metadata": {},
   "outputs": [
    {
     "data": {
      "text/plain": [
       "[1, 10, 4, 9, 2, 3, 8, 5, 7, 6]"
      ]
     },
     "execution_count": 173,
     "metadata": {},
     "output_type": "execute_result"
    }
   ],
   "source": [
    "tmp"
   ]
  },
  {
   "cell_type": "code",
   "execution_count": 174,
   "id": "ffbe079b-ef56-440f-958a-24cf29dab9a1",
   "metadata": {},
   "outputs": [
    {
     "data": {
      "text/plain": [
       "[1, 4, 9, 2, 3, 8, 5, 7, 6]"
      ]
     },
     "execution_count": 174,
     "metadata": {},
     "output_type": "execute_result"
    }
   ],
   "source": [
    "ans"
   ]
  },
  {
   "cell_type": "code",
   "execution_count": 182,
   "id": "51ac5775-c105-4ed2-8a99-2f7c36ff3c04",
   "metadata": {},
   "outputs": [
    {
     "ename": "SyntaxError",
     "evalue": "unexpected EOF while parsing (404223900.py, line 10)",
     "output_type": "error",
     "traceback": [
      "\u001b[0;36m  File \u001b[0;32m\"/var/folders/r7/7x2__3ms6933lhq98cvf4rzm0000gn/T/ipykernel_34531/404223900.py\"\u001b[0;36m, line \u001b[0;32m10\u001b[0m\n\u001b[0;31m    print(ans[i] for range(len(ans))\u001b[0m\n\u001b[0m                                    ^\u001b[0m\n\u001b[0;31mSyntaxError\u001b[0m\u001b[0;31m:\u001b[0m unexpected EOF while parsing\n"
     ]
    }
   ],
   "source": [
    "import sys\n",
    "n, x = map(int,input().split())\n",
    "tmp = list(map(int, input().split()))\n",
    "# ans = []\n",
    "ans = [i for i in tmp if i < x]\n",
    "# for i in tmp:\n",
    "#     if i < x:\n",
    "#         ans.append(i)\n",
    "# for i in range(len(ans)):\n",
    "print(i for ans[i] for range(len(ans))"
   ]
  },
  {
   "cell_type": "markdown",
   "id": "1855e46d-af31-456f-b7fa-b5250ebeb01e",
   "metadata": {},
   "source": [
    "# tmp = [int(input()) for _ in range(n)]"
   ]
  },
  {
   "cell_type": "code",
   "execution_count": 184,
   "id": "d6b72538-6acf-4016-939f-96715112c3f2",
   "metadata": {},
   "outputs": [
    {
     "name": "stdin",
     "output_type": "stream",
     "text": [
      " 1\n",
      " 2\n",
      " 3\n",
      " 4\n",
      " 5\n",
      " 6\n",
      " 7\n",
      " 8\n",
      " 9\n",
      " 10\n"
     ]
    }
   ],
   "source": [
    "tmp = [int(input()) for _ in range(n)]"
   ]
  },
  {
   "cell_type": "code",
   "execution_count": 185,
   "id": "2df41561-5208-412e-9781-eff8ae958fcd",
   "metadata": {},
   "outputs": [
    {
     "data": {
      "text/plain": [
       "[1, 2, 3, 4, 5, 6, 7, 8, 9, 10]"
      ]
     },
     "execution_count": 185,
     "metadata": {},
     "output_type": "execute_result"
    }
   ],
   "source": [
    "tmp"
   ]
  },
  {
   "cell_type": "code",
   "execution_count": 186,
   "id": "3bf26955-c112-4e49-bf36-2fca9de5f14d",
   "metadata": {},
   "outputs": [
    {
     "name": "stdin",
     "output_type": "stream",
     "text": [
      " 3\n",
      " 29\n",
      " 38\n",
      " 12\n",
      " 57\n",
      " 74\n",
      " 40\n",
      " 85\n",
      " 61\n"
     ]
    }
   ],
   "source": [
    "tmp = [int(input()) for _ in range(9)]"
   ]
  },
  {
   "cell_type": "code",
   "execution_count": 187,
   "id": "a7cc128d-0480-4cee-8b25-3c3d34a13c55",
   "metadata": {},
   "outputs": [
    {
     "data": {
      "text/plain": [
       "[3, 29, 38, 12, 57, 74, 40, 85, 61]"
      ]
     },
     "execution_count": 187,
     "metadata": {},
     "output_type": "execute_result"
    }
   ],
   "source": [
    "tmp"
   ]
  },
  {
   "cell_type": "code",
   "execution_count": 190,
   "id": "68fe7c75-3c82-4292-9d29-a462f03bf851",
   "metadata": {},
   "outputs": [
    {
     "name": "stdout",
     "output_type": "stream",
     "text": [
      "85\n"
     ]
    }
   ],
   "source": [
    "print(max(tmp))"
   ]
  },
  {
   "cell_type": "code",
   "execution_count": 192,
   "id": "fa359dfd-2154-4023-af91-ca0724564a21",
   "metadata": {},
   "outputs": [
    {
     "name": "stdout",
     "output_type": "stream",
     "text": [
      "8\n"
     ]
    }
   ],
   "source": [
    "print(tmp.index(max(tmp))+1)"
   ]
  },
  {
   "cell_type": "code",
   "execution_count": 193,
   "id": "15e1dad2-f427-407f-a7c9-ab7cec312fcd",
   "metadata": {},
   "outputs": [
    {
     "name": "stdin",
     "output_type": "stream",
     "text": [
      " 1\n",
      " 2\n",
      " 3\n",
      " 4\n",
      " 5\n",
      " 6\n",
      " 7\n",
      " 8\n",
      " 9\n"
     ]
    },
    {
     "name": "stdout",
     "output_type": "stream",
     "text": [
      "9\n"
     ]
    }
   ],
   "source": [
    "tmp = [int(input()) for _ in range(9)]\n",
    "print(max(tmp)\n",
    "print(tmp.index(max(tmp))+1)"
   ]
  },
  {
   "cell_type": "code",
   "execution_count": 195,
   "id": "6ba1ec77-c119-44ad-a206-9f11dd44d99b",
   "metadata": {},
   "outputs": [
    {
     "name": "stdin",
     "output_type": "stream",
     "text": [
      " q\n"
     ]
    },
    {
     "ename": "ValueError",
     "evalue": "invalid literal for int() with base 10: 'q'",
     "output_type": "error",
     "traceback": [
      "\u001b[0;31m---------------------------------------------------------------------------\u001b[0m",
      "\u001b[0;31mValueError\u001b[0m                                Traceback (most recent call last)",
      "\u001b[0;32m/var/folders/r7/7x2__3ms6933lhq98cvf4rzm0000gn/T/ipykernel_34531/3065076910.py\u001b[0m in \u001b[0;36m<module>\u001b[0;34m\u001b[0m\n\u001b[0;32m----> 1\u001b[0;31m \u001b[0ma\u001b[0m \u001b[0;34m=\u001b[0m \u001b[0mint\u001b[0m\u001b[0;34m(\u001b[0m\u001b[0minput\u001b[0m\u001b[0;34m(\u001b[0m\u001b[0;34m)\u001b[0m\u001b[0;34m)\u001b[0m\u001b[0;34m\u001b[0m\u001b[0;34m\u001b[0m\u001b[0m\n\u001b[0m\u001b[1;32m      2\u001b[0m \u001b[0mb\u001b[0m \u001b[0;34m=\u001b[0m \u001b[0minput\u001b[0m\u001b[0;34m(\u001b[0m\u001b[0;34m)\u001b[0m\u001b[0;34m\u001b[0m\u001b[0;34m\u001b[0m\u001b[0m\n\u001b[1;32m      3\u001b[0m \u001b[0ma_list\u001b[0m \u001b[0;34m=\u001b[0m \u001b[0mlist\u001b[0m\u001b[0;34m(\u001b[0m\u001b[0mmap\u001b[0m\u001b[0;34m(\u001b[0m\u001b[0mint\u001b[0m\u001b[0;34m,\u001b[0m \u001b[0mstr\u001b[0m\u001b[0;34m(\u001b[0m\u001b[0ma\u001b[0m\u001b[0;34m)\u001b[0m\u001b[0;34m)\u001b[0m\u001b[0;34m)\u001b[0m\u001b[0;34m\u001b[0m\u001b[0;34m\u001b[0m\u001b[0m\n\u001b[1;32m      4\u001b[0m \u001b[0mb_list\u001b[0m \u001b[0;34m=\u001b[0m \u001b[0mlist\u001b[0m\u001b[0;34m(\u001b[0m\u001b[0mmap\u001b[0m\u001b[0;34m(\u001b[0m\u001b[0mint\u001b[0m\u001b[0;34m,\u001b[0m \u001b[0mstr\u001b[0m\u001b[0;34m(\u001b[0m\u001b[0mb\u001b[0m\u001b[0;34m)\u001b[0m\u001b[0;34m)\u001b[0m\u001b[0;34m)\u001b[0m\u001b[0;34m\u001b[0m\u001b[0;34m\u001b[0m\u001b[0m\n\u001b[1;32m      5\u001b[0m \u001b[0mx\u001b[0m \u001b[0;34m=\u001b[0m \u001b[0ma\u001b[0m\u001b[0;34m*\u001b[0m\u001b[0mb_list\u001b[0m\u001b[0;34m.\u001b[0m\u001b[0mpop\u001b[0m\u001b[0;34m(\u001b[0m\u001b[0;34m)\u001b[0m\u001b[0;34m\u001b[0m\u001b[0;34m\u001b[0m\u001b[0m\n",
      "\u001b[0;31mValueError\u001b[0m: invalid literal for int() with base 10: 'q'"
     ]
    }
   ],
   "source": [
    "a = int(input())q\n",
    "\n",
    "b = input()\n",
    "a_list = list(map(int, str(a)))\n",
    "b_list = list(map(int, str(b)))\n",
    "x = a*b_list.pop()\n",
    "print(x)\n",
    "y = a*b_list.pop()\n",
    "print(y)\n",
    "z = a*b_list.pop()\n",
    "print(z)\n",
    "print(x+y*10+z*100)"
   ]
  },
  {
   "cell_type": "code",
   "execution_count": 201,
   "id": "556ca71c-bf06-4fcc-9bb9-9680780b81c1",
   "metadata": {},
   "outputs": [
    {
     "name": "stdin",
     "output_type": "stream",
     "text": [
      " 5\n",
      " OOXXOXXOOO\n",
      " OOXXOOXXOO\n",
      " OXOXOXOXOXOXOX\n",
      " OOOOOOOOOO\n",
      " OOOOXOOOOXOOOOX\n"
     ]
    }
   ],
   "source": [
    "n = int(input())\n",
    "tmp = [list(input()) for _ in range(n)]"
   ]
  },
  {
   "cell_type": "code",
   "execution_count": 202,
   "id": "ab48cf9b-6eed-4f1f-90ca-b23abf4a7ff2",
   "metadata": {},
   "outputs": [
    {
     "data": {
      "text/plain": [
       "[['O', 'O', 'X', 'X', 'O', 'X', 'X', 'O', 'O', 'O'],\n",
       " ['O', 'O', 'X', 'X', 'O', 'O', 'X', 'X', 'O', 'O'],\n",
       " ['O', 'X', 'O', 'X', 'O', 'X', 'O', 'X', 'O', 'X', 'O', 'X', 'O', 'X'],\n",
       " ['O', 'O', 'O', 'O', 'O', 'O', 'O', 'O', 'O', 'O'],\n",
       " ['O', 'O', 'O', 'O', 'X', 'O', 'O', 'O', 'O', 'X', 'O', 'O', 'O', 'O', 'X']]"
      ]
     },
     "execution_count": 202,
     "metadata": {},
     "output_type": "execute_result"
    }
   ],
   "source": [
    "tmp"
   ]
  },
  {
   "cell_type": "code",
   "execution_count": 203,
   "id": "158e15f6-e1ff-4e4f-a7c4-572473d87f3b",
   "metadata": {},
   "outputs": [
    {
     "name": "stdout",
     "output_type": "stream",
     "text": [
      "['O', 'O', 'X', 'X', 'O', 'X', 'X', 'O', 'O', 'O']\n",
      "['O', 'O', 'X', 'X', 'O', 'O', 'X', 'X', 'O', 'O']\n",
      "['O', 'X', 'O', 'X', 'O', 'X', 'O', 'X', 'O', 'X', 'O', 'X', 'O', 'X']\n",
      "['O', 'O', 'O', 'O', 'O', 'O', 'O', 'O', 'O', 'O']\n",
      "['O', 'O', 'O', 'O', 'X', 'O', 'O', 'O', 'O', 'X', 'O', 'O', 'O', 'O', 'X']\n"
     ]
    }
   ],
   "source": [
    "for quiz in tmp:\n",
    "    for i in range(0, len(quiz)):\n",
    "        if quiz[i] == O:\n",
    "            if i == 0:\n",
    "                quiz[i] == 1\n",
    "            else:\n",
    "                if quiz[i-1] == 0"
   ]
  },
  {
   "cell_type": "code",
   "execution_count": 205,
   "id": "42fc23d6-6e01-48d5-900c-e716c1ba2958",
   "metadata": {},
   "outputs": [
    {
     "data": {
      "text/plain": [
       "[['O', 'O', 'X', 'X', 'O', 'X', 'X', 'O', 'O', 'O'],\n",
       " ['O', 'O', 'X', 'X', 'O', 'O', 'X', 'X', 'O', 'O'],\n",
       " ['O', 'X', 'O', 'X', 'O', 'X', 'O', 'X', 'O', 'X', 'O', 'X', 'O', 'X'],\n",
       " ['O', 'O', 'O', 'O', 'O', 'O', 'O', 'O', 'O', 'O'],\n",
       " ['O', 'O', 'O', 'O', 'X', 'O', 'O', 'O', 'O', 'X', 'O', 'O', 'O', 'O', 'X']]"
      ]
     },
     "execution_count": 205,
     "metadata": {},
     "output_type": "execute_result"
    }
   ],
   "source": [
    "tmp"
   ]
  },
  {
   "cell_type": "code",
   "execution_count": 206,
   "id": "29a42857-760b-4eeb-886b-483afc65a6ba",
   "metadata": {},
   "outputs": [
    {
     "name": "stdin",
     "output_type": "stream",
     "text": [
      " 5\n"
     ]
    }
   ],
   "source": [
    "n = int(input())"
   ]
  },
  {
   "cell_type": "code",
   "execution_count": 218,
   "id": "ae1736bd-b62b-4d3e-8720-e00406b047ad",
   "metadata": {},
   "outputs": [
    {
     "name": "stdin",
     "output_type": "stream",
     "text": [
      " 5 50 50 70 80 100\n",
      " 7 100 95 90 80 70 60 50\n",
      " 3 70 90 80\n",
      " 3 70 90 81\n",
      " 9 100 99 98 97 96 95 94 93 91\n"
     ]
    }
   ],
   "source": [
    "tmp = [list(input().split(\" \")) for _ in range(n)]"
   ]
  },
  {
   "cell_type": "code",
   "execution_count": 219,
   "id": "419acc5e-2243-4e63-bd99-6041a0ad27f3",
   "metadata": {},
   "outputs": [
    {
     "data": {
      "text/plain": [
       "[['5', '50', '50', '70', '80', '100'],\n",
       " ['7', '100', '95', '90', '80', '70', '60', '50'],\n",
       " ['3', '70', '90', '80'],\n",
       " ['3', '70', '90', '81'],\n",
       " ['9', '100', '99', '98', '97', '96', '95', '94', '93', '91']]"
      ]
     },
     "execution_count": 219,
     "metadata": {},
     "output_type": "execute_result"
    }
   ],
   "source": [
    "tmp"
   ]
  },
  {
   "cell_type": "code",
   "execution_count": null,
   "id": "f441554a-5632-4241-b58a-06b6edae8bae",
   "metadata": {},
   "outputs": [],
   "source": []
  },
  {
   "cell_type": "code",
   "execution_count": 239,
   "id": "4a63973a-9d0d-424d-b05a-c20677db313a",
   "metadata": {},
   "outputs": [
    {
     "name": "stdout",
     "output_type": "stream",
     "text": [
      "40.000%\n",
      "57.143%\n",
      "33.333%\n",
      "66.667%\n",
      "55.556%\n"
     ]
    }
   ],
   "source": [
    "for i in tmp:\n",
    "    i = list(map(int, i))\n",
    "    d = i.pop(0)\n",
    "    avg = sum(i)/float(d)\n",
    "    student = [x for x in i if x > avg]\n",
    "    print(str('%0.3f'%(len(student)/d*100))+\"%\") "
   ]
  },
  {
   "cell_type": "code",
   "execution_count": 234,
   "id": "5b78779e-2c21-45a9-a8b1-5ddc5e02bccf",
   "metadata": {},
   "outputs": [
    {
     "data": {
      "text/plain": [
       "['40.000%', '57.143%', '33.333%', '66.667%', '55.556%']"
      ]
     },
     "execution_count": 234,
     "metadata": {},
     "output_type": "execute_result"
    }
   ],
   "source": [
    "ans"
   ]
  },
  {
   "cell_type": "code",
   "execution_count": 244,
   "id": "02c587c9-c022-4bca-a96e-440375899939",
   "metadata": {},
   "outputs": [
    {
     "name": "stdin",
     "output_type": "stream",
     "text": [
      " 150\n",
      " 266\n",
      " 427\n"
     ]
    }
   ],
   "source": [
    "tmp = [int(input()) for _ in range(3)]"
   ]
  },
  {
   "cell_type": "code",
   "execution_count": 259,
   "id": "a62b7ee4-67dc-483c-9ba9-81cd319c0210",
   "metadata": {},
   "outputs": [
    {
     "name": "stdout",
     "output_type": "stream",
     "text": [
      "3\n",
      "1\n",
      "0\n",
      "2\n",
      "0\n",
      "0\n",
      "0\n",
      "2\n",
      "0\n",
      "0\n"
     ]
    }
   ],
   "source": [
    "import numpy\n",
    "\n",
    "num = list(str(numpy.prod(tmp)))\n",
    "\n",
    "\n",
    "for i in range(10):\n",
    "    print(num.count(str(i)))\n",
    "    \n",
    "    \n",
    "    "
   ]
  },
  {
   "cell_type": "code",
   "execution_count": 260,
   "id": "9b501d8e-2f30-415d-959f-c9ecfbe97c5a",
   "metadata": {},
   "outputs": [
    {
     "name": "stdin",
     "output_type": "stream",
     "text": [
      " 150\n",
      " 266\n",
      " 427\n"
     ]
    },
    {
     "name": "stdout",
     "output_type": "stream",
     "text": [
      "3\n",
      "1\n",
      "0\n",
      "2\n",
      "0\n",
      "0\n",
      "0\n",
      "2\n",
      "0\n",
      "0\n"
     ]
    }
   ],
   "source": [
    "import numpy\n",
    "tmp = [int(input()) for _ in range(3)]\n",
    "num = list(str(numpy.prod(tmp)))\n",
    "for i in range(10):\n",
    "    print(num.count(str(i)))"
   ]
  },
  {
   "cell_type": "code",
   "execution_count": 262,
   "id": "82ed6d1c-5f04-4de5-a48e-a7edaa8a7f36",
   "metadata": {},
   "outputs": [
    {
     "name": "stdin",
     "output_type": "stream",
     "text": [
      " 150\n",
      " 266\n",
      " 427\n"
     ]
    },
    {
     "name": "stdout",
     "output_type": "stream",
     "text": [
      "3\n",
      "1\n",
      "0\n",
      "2\n",
      "0\n",
      "0\n",
      "0\n",
      "2\n",
      "0\n",
      "0\n"
     ]
    }
   ],
   "source": [
    "tmp = [int(input()) for _ in range(3)]\n",
    "num = list(str(tmp[0] * tmp[1] * tmp[2]))\n",
    "for i in range(10):\n",
    "    print(num.count(str(i)))"
   ]
  },
  {
   "cell_type": "code",
   "execution_count": 265,
   "id": "151bac3d-9326-40ac-a992-84415f6476b5",
   "metadata": {},
   "outputs": [],
   "source": [
    "def solve(a):\n",
    "    ans = sum(a)\n",
    "    return ans"
   ]
  },
  {
   "cell_type": "code",
   "execution_count": 266,
   "id": "8215beb3-d208-49ca-8e2a-eee52b9d52ff",
   "metadata": {},
   "outputs": [
    {
     "data": {
      "text/plain": [
       "6"
      ]
     },
     "execution_count": 266,
     "metadata": {},
     "output_type": "execute_result"
    }
   ],
   "source": [
    "solve([1, 2, 3])"
   ]
  },
  {
   "cell_type": "code",
   "execution_count": 268,
   "id": "63a82665-04e7-412e-98ce-58bf5edd4a7c",
   "metadata": {},
   "outputs": [
    {
     "data": {
      "text/plain": [
       "49"
      ]
     },
     "execution_count": 268,
     "metadata": {},
     "output_type": "execute_result"
    }
   ],
   "source": [
    "ord(\"1\")"
   ]
  },
  {
   "cell_type": "code",
   "execution_count": null,
   "id": "742d653e-a344-4759-9f3c-3947c15365fd",
   "metadata": {},
   "outputs": [],
   "source": []
  },
  {
   "cell_type": "code",
   "execution_count": null,
   "id": "72f107fc-e8d9-4f78-84e3-87e569fabe04",
   "metadata": {},
   "outputs": [],
   "source": [
    "\n",
    "for i in tmp:\n",
    "    each = list(map(int, list(i)))\n",
    "    "
   ]
  },
  {
   "cell_type": "code",
   "execution_count": 270,
   "id": "62765815-56ad-42b4-acc0-1599856fd588",
   "metadata": {},
   "outputs": [
    {
     "name": "stdin",
     "output_type": "stream",
     "text": [
      " 2\n"
     ]
    }
   ],
   "source": [
    "n = int(input())"
   ]
  },
  {
   "cell_type": "code",
   "execution_count": 276,
   "id": "f8ffc068-316b-43b0-84f5-273ceea9de03",
   "metadata": {},
   "outputs": [
    {
     "name": "stdin",
     "output_type": "stream",
     "text": [
      " 3 ABC\n",
      " 5 /HTP\n"
     ]
    }
   ],
   "source": [
    "q = [list(input().split()) for _ in range(2)]"
   ]
  },
  {
   "cell_type": "code",
   "execution_count": 283,
   "id": "ceaa135c-268a-4134-ac0f-f86d1a990d27",
   "metadata": {},
   "outputs": [
    {
     "name": "stdout",
     "output_type": "stream",
     "text": [
      "AAABBBCCC\n",
      "/////HHHHHTTTTTPPPPP\n"
     ]
    }
   ],
   "source": [
    "for i in q:\n",
    "    r = int(i[0])\n",
    "    ans = []\n",
    "    for a in list(i[1]):\n",
    "        ans.append(a*r)\n",
    "    print(''.join(ans))\n",
    "    \n",
    "    "
   ]
  },
  {
   "cell_type": "code",
   "execution_count": 287,
   "id": "1469792a-dbd7-4d8e-ac01-74d8e4a995d6",
   "metadata": {},
   "outputs": [
    {
     "name": "stdin",
     "output_type": "stream",
     "text": [
      " the last character is blank \n"
     ]
    },
    {
     "name": "stdout",
     "output_type": "stream",
     "text": [
      "5\n"
     ]
    }
   ],
   "source": [
    "print(len(list(input().split())))"
   ]
  },
  {
   "cell_type": "code",
   "execution_count": 285,
   "id": "c46ea130-b700-4640-881a-129d18db32ba",
   "metadata": {},
   "outputs": [
    {
     "data": {
      "text/plain": [
       "['the', 'curious', 'case', 'of', 'benjamin', 'buton']"
      ]
     },
     "execution_count": 285,
     "metadata": {},
     "output_type": "execute_result"
    }
   ],
   "source": [
    "a"
   ]
  },
  {
   "cell_type": "code",
   "execution_count": 286,
   "id": "ddde1fe1-6310-4206-af66-af142253f5fd",
   "metadata": {},
   "outputs": [
    {
     "data": {
      "text/plain": [
       "6"
      ]
     },
     "execution_count": 286,
     "metadata": {},
     "output_type": "execute_result"
    }
   ],
   "source": [
    "len(a)"
   ]
  },
  {
   "cell_type": "code",
   "execution_count": 308,
   "id": "786e4029-7b5c-4a99-9673-cbb216974cd9",
   "metadata": {},
   "outputs": [
    {
     "name": "stdin",
     "output_type": "stream",
     "text": [
      " 734 893\n"
     ]
    },
    {
     "name": "stdout",
     "output_type": "stream",
     "text": [
      "437\n"
     ]
    }
   ],
   "source": [
    "a, b = input().split()\n",
    "print(\"\".join(max([list(a)[::-1], list(b)[::-1]])))"
   ]
  },
  {
   "cell_type": "code",
   "execution_count": 298,
   "id": "9bf97b2f-eaf9-4f31-9ddf-8e6efa621e95",
   "metadata": {},
   "outputs": [],
   "source": [
    "a = [\"x\", \"y\", \"z\"]"
   ]
  },
  {
   "cell_type": "code",
   "execution_count": 302,
   "id": "2e5227fb-8224-404a-b091-a5b4ec1ba15b",
   "metadata": {},
   "outputs": [
    {
     "data": {
      "text/plain": [
       "['z', 'y', 'x']"
      ]
     },
     "execution_count": 302,
     "metadata": {},
     "output_type": "execute_result"
    }
   ],
   "source": [
    "a[::-1]"
   ]
  },
  {
   "cell_type": "code",
   "execution_count": 336,
   "id": "e42ecc24-e7f2-4687-adfd-7940c7b39331",
   "metadata": {},
   "outputs": [
    {
     "name": "stdin",
     "output_type": "stream",
     "text": [
      " 5 1 6\n"
     ]
    }
   ],
   "source": [
    "A, B, V = input().split()"
   ]
  },
  {
   "cell_type": "code",
   "execution_count": 340,
   "id": "5e1e9e78-c86c-4638-b81c-35aac6e01885",
   "metadata": {},
   "outputs": [
    {
     "data": {
      "text/plain": [
       "1.5"
      ]
     },
     "execution_count": 340,
     "metadata": {},
     "output_type": "execute_result"
    }
   ],
   "source": [
    "int(3)/int(2)"
   ]
  },
  {
   "cell_type": "code",
   "execution_count": 337,
   "id": "b557008c-2c53-4522-890b-5a92a29e0b96",
   "metadata": {},
   "outputs": [],
   "source": [
    "days = float((int(V)-int(A))/(int(A)-int(B)))"
   ]
  },
  {
   "cell_type": "code",
   "execution_count": 338,
   "id": "6a58c8b3-e215-4056-92b6-b21ccf12f7db",
   "metadata": {},
   "outputs": [
    {
     "name": "stdout",
     "output_type": "stream",
     "text": [
      "0.25\n",
      "1\n"
     ]
    }
   ],
   "source": [
    "print(days)\n",
    "print(int(days+1))"
   ]
  },
  {
   "cell_type": "code",
   "execution_count": 343,
   "id": "7e2eff55-7c03-4b9b-9164-910fba63de41",
   "metadata": {},
   "outputs": [
    {
     "name": "stdin",
     "output_type": "stream",
     "text": [
      " 5 1 6\n"
     ]
    },
    {
     "name": "stdout",
     "output_type": "stream",
     "text": [
      "2\n"
     ]
    }
   ],
   "source": [
    "import math\n",
    "A, B, V = map(int, input().split())\n",
    "days = math.ceil((V-A)/(A-B))\n",
    "print(days+1)"
   ]
  },
  {
   "cell_type": "code",
   "execution_count": 341,
   "id": "b461b561-b501-4aaa-a3a8-2c3436bde695",
   "metadata": {},
   "outputs": [
    {
     "name": "stdin",
     "output_type": "stream",
     "text": [
      " 5 1 6\n"
     ]
    }
   ],
   "source": [
    "A, B, V = map(int, input().split())"
   ]
  },
  {
   "cell_type": "code",
   "execution_count": 342,
   "id": "fca736d2-feaa-4969-ba45-1bca03465f9d",
   "metadata": {},
   "outputs": [
    {
     "data": {
      "text/plain": [
       "int"
      ]
     },
     "execution_count": 342,
     "metadata": {},
     "output_type": "execute_result"
    }
   ],
   "source": [
    "type(A)"
   ]
  },
  {
   "cell_type": "code",
   "execution_count": 352,
   "id": "48f8428a-f8a8-435f-9a7e-7ff8a6efd70f",
   "metadata": {},
   "outputs": [
    {
     "name": "stdin",
     "output_type": "stream",
     "text": [
      " 4\n",
      " 1 3 5 7\n"
     ]
    }
   ],
   "source": [
    "n = int(input())\n",
    "tmp = list(map(int, input().split()))"
   ]
  },
  {
   "cell_type": "code",
   "execution_count": 353,
   "id": "334266f8-fb62-484d-8960-8320d6f03dfb",
   "metadata": {},
   "outputs": [
    {
     "data": {
      "text/plain": [
       "[1, 3, 5, 7]"
      ]
     },
     "execution_count": 353,
     "metadata": {},
     "output_type": "execute_result"
    }
   ],
   "source": [
    "tmp"
   ]
  },
  {
   "cell_type": "code",
   "execution_count": 354,
   "id": "e538375a-43f8-4726-b326-dff125a85f14",
   "metadata": {},
   "outputs": [],
   "source": [
    "def is_prime(n):\n",
    "    for i in range(1, n):\n",
    "        if n%1 == 0:\n",
    "            return True"
   ]
  },
  {
   "cell_type": "code",
   "execution_count": 355,
   "id": "4cee5120-8225-4473-b399-59a483219109",
   "metadata": {},
   "outputs": [
    {
     "name": "stdout",
     "output_type": "stream",
     "text": [
      "3\n"
     ]
    }
   ],
   "source": [
    "if 1 in tmp:\n",
    "    tmp.remove(1)\n",
    "count = 0\n",
    "for d in tmp:\n",
    "    if is_prime(d) == True:\n",
    "        count+=1\n",
    "print(count)"
   ]
  },
  {
   "cell_type": "code",
   "execution_count": 446,
   "id": "5d6533d5-8f9e-4259-bb92-ab26b06c6b9e",
   "metadata": {},
   "outputs": [
    {
     "name": "stdin",
     "output_type": "stream",
     "text": [
      " 4\n"
     ]
    },
    {
     "name": "stdout",
     "output_type": "stream",
     "text": [
      "1\n"
     ]
    }
   ],
   "source": [
    "n = int(input())\n",
    "# tmp = list(map(int, input().split()))\n",
    "\n",
    "tmp = [x for x in range(1, n+1)]\n",
    "\n",
    "def is_prime(n):\n",
    "    for i in range(2, n):\n",
    "            if n%i != 0:\n",
    "                if i == n-1:\n",
    "                    return True\n",
    "                pass\n",
    "            else:\n",
    "                break \n",
    "                \n",
    "                \n",
    "if 1 in tmp:\n",
    "    tmp.remove(1)\n",
    "count = 0\n",
    "for d in tmp:\n",
    "    if is_prime(d) == True:\n",
    "        count+=1\n",
    "    else:\n",
    "        continue\n",
    "print(count)"
   ]
  },
  {
   "cell_type": "markdown",
   "id": "f9f57038-b5ec-422d-9058-4b86687f1d59",
   "metadata": {},
   "source": [
    "### tmp"
   ]
  },
  {
   "cell_type": "code",
   "execution_count": 444,
   "id": "4601d65c-db90-4781-b2be-8c00f422260f",
   "metadata": {},
   "outputs": [],
   "source": [
    "def is_prime(n):\n",
    "    for i in range(2, n):\n",
    "            print(\"i\", i)\n",
    "            if n%i != 0:\n",
    "                if i == n-1:\n",
    "                    return True\n",
    "                pass\n",
    "            else:\n",
    "                break    \n",
    "            "
   ]
  },
  {
   "cell_type": "code",
   "execution_count": 445,
   "id": "e365c09f-80e9-4bdd-b9c2-3f98ec554603",
   "metadata": {},
   "outputs": [
    {
     "name": "stdout",
     "output_type": "stream",
     "text": [
      "i 2\n"
     ]
    }
   ],
   "source": [
    "is_prime(12)"
   ]
  },
  {
   "cell_type": "code",
   "execution_count": 379,
   "id": "6df0f695-f3b3-4681-bb9f-8d85d8a3eeaa",
   "metadata": {},
   "outputs": [],
   "source": [
    "def func():\n",
    "    return True"
   ]
  },
  {
   "cell_type": "code",
   "execution_count": 380,
   "id": "be797a4f-2eb1-426f-a1bd-573063eb182f",
   "metadata": {},
   "outputs": [
    {
     "data": {
      "text/plain": [
       "True"
      ]
     },
     "execution_count": 380,
     "metadata": {},
     "output_type": "execute_result"
    }
   ],
   "source": [
    "func()"
   ]
  },
  {
   "cell_type": "code",
   "execution_count": 455,
   "id": "d798f930-e74b-4969-9814-2045123924f0",
   "metadata": {},
   "outputs": [
    {
     "name": "stdin",
     "output_type": "stream",
     "text": [
      " 0\n"
     ]
    }
   ],
   "source": [
    "n = int(input())"
   ]
  },
  {
   "cell_type": "code",
   "execution_count": 451,
   "id": "a8bf63b9-625d-43f7-94e1-5c2040117ed4",
   "metadata": {},
   "outputs": [
    {
     "name": "stdout",
     "output_type": "stream",
     "text": [
      "3628800\n"
     ]
    }
   ],
   "source": [
    "answer = 1\n",
    "for i in range(1, n+1):\n",
    "    answer = answer*i\n",
    "print(answer)"
   ]
  },
  {
   "cell_type": "code",
   "execution_count": 456,
   "id": "cae4d184-c20c-4f5e-8cb2-fac2eee284ac",
   "metadata": {},
   "outputs": [
    {
     "name": "stdout",
     "output_type": "stream",
     "text": [
      "1\n"
     ]
    }
   ],
   "source": [
    "answer = 1\n",
    "if n == 0:\n",
    "    answer = 1\n",
    "else:\n",
    "    for i in range(1, n+1):\n",
    "        answer = answer*i\n",
    "print(answer)\n",
    "    "
   ]
  },
  {
   "cell_type": "code",
   "execution_count": 457,
   "id": "dc11579a-8d3d-406b-bfcf-cd89a778d084",
   "metadata": {},
   "outputs": [
    {
     "name": "stdin",
     "output_type": "stream",
     "text": [
      " 3\n"
     ]
    }
   ],
   "source": [
    "n = int(input())"
   ]
  },
  {
   "cell_type": "code",
   "execution_count": 467,
   "id": "be54d00c-5c5f-43a5-806b-dcdaa03ab7b4",
   "metadata": {},
   "outputs": [],
   "source": [
    "tmp = [1, 2, 3, 4, 5, 6, 7]"
   ]
  },
  {
   "cell_type": "code",
   "execution_count": 465,
   "id": "4f07ed02-74ed-4453-9993-cbcbc848c9ff",
   "metadata": {},
   "outputs": [],
   "source": [
    "a, b = [], []"
   ]
  },
  {
   "cell_type": "code",
   "execution_count": 466,
   "id": "4e405c9c-2cbf-4ef3-854f-382fb86bf134",
   "metadata": {},
   "outputs": [
    {
     "name": "stdout",
     "output_type": "stream",
     "text": [
      "2\n"
     ]
    }
   ],
   "source": [
    "3 = tmp.pop(0)"
   ]
  },
  {
   "cell_type": "code",
   "execution_count": 484,
   "id": "b9f6103d-2f42-404c-8d2f-ccd6030618e7",
   "metadata": {},
   "outputs": [],
   "source": [
    "def move(no: int, x: int, y: int)->None:\n",
    "    if no > 1:\n",
    "        move(no-1, x, 6-x-y)\n",
    "        \n",
    "    print(f'원반 [{no}]를 {x}기둥에서 {y}기둥으로 옮깁니다.')\n",
    "    if no > 1:\n",
    "        move(no-1, 6-x-y, y)\n",
    "        "
   ]
  },
  {
   "cell_type": "code",
   "execution_count": 486,
   "id": "f275d98d-0ecb-4511-8af0-47436f3678ff",
   "metadata": {},
   "outputs": [
    {
     "name": "stdout",
     "output_type": "stream",
     "text": [
      "원반 [1]를 1기둥에서 3기둥으로 옮깁니다.\n",
      "원반 [2]를 1기둥에서 2기둥으로 옮깁니다.\n",
      "원반 [1]를 3기둥에서 2기둥으로 옮깁니다.\n",
      "원반 [3]를 1기둥에서 3기둥으로 옮깁니다.\n",
      "원반 [1]를 2기둥에서 1기둥으로 옮깁니다.\n",
      "원반 [2]를 2기둥에서 3기둥으로 옮깁니다.\n",
      "원반 [1]를 1기둥에서 3기둥으로 옮깁니다.\n"
     ]
    }
   ],
   "source": [
    "move(3, 1, 3)"
   ]
  },
  {
   "cell_type": "code",
   "execution_count": 528,
   "id": "a44f5e1c-dac6-462e-bbbc-ef39b99b08b6",
   "metadata": {},
   "outputs": [],
   "source": [
    "def test(n):\n",
    "    n = int(n)\n",
    "    while n > 0:\n",
    "        return n*test(n-1)\n",
    "    return 1\n",
    "    \n",
    "    \n",
    "    "
   ]
  },
  {
   "cell_type": "code",
   "execution_count": 529,
   "id": "3d0c5a19-708f-4f93-b8a3-7f6ecb431876",
   "metadata": {},
   "outputs": [
    {
     "data": {
      "text/plain": [
       "120"
      ]
     },
     "execution_count": 529,
     "metadata": {},
     "output_type": "execute_result"
    }
   ],
   "source": [
    "test(5)"
   ]
  },
  {
   "cell_type": "code",
   "execution_count": 537,
   "id": "db0609de-1603-4063-ac7e-20d158c3f1f5",
   "metadata": {},
   "outputs": [
    {
     "name": "stdin",
     "output_type": "stream",
     "text": [
      " 3\n"
     ]
    },
    {
     "data": {
      "text/plain": [
       "6"
      ]
     },
     "execution_count": 537,
     "metadata": {},
     "output_type": "execute_result"
    }
   ],
   "source": [
    "n = int(input())\n",
    "def test(n):\n",
    "    n = int(n)\n",
    "    while n > 0:\n",
    "        return n*test(n-1)\n",
    "    return 1\n",
    "test(n)"
   ]
  },
  {
   "cell_type": "code",
   "execution_count": null,
   "id": "8dedd9bd-2b9a-40fb-9811-5278c59eadef",
   "metadata": {},
   "outputs": [],
   "source": []
  },
  {
   "cell_type": "code",
   "execution_count": null,
   "id": "451461f7-cda8-4d31-ae1f-7ed619dfa245",
   "metadata": {},
   "outputs": [],
   "source": []
  },
  {
   "cell_type": "code",
   "execution_count": 514,
   "id": "b28e4198-fc88-4731-a8e3-aa7efe2c2653",
   "metadata": {},
   "outputs": [],
   "source": [
    "def factorial(n: int) -> int:\n",
    "    if n > 0:\n",
    "        return n * factorial(n-1)\n",
    "    else:\n",
    "        return 1"
   ]
  },
  {
   "cell_type": "code",
   "execution_count": 530,
   "id": "83344f0e-f8af-4fc1-a2f6-1e5f882eb905",
   "metadata": {},
   "outputs": [
    {
     "data": {
      "text/plain": [
       "120"
      ]
     },
     "execution_count": 530,
     "metadata": {},
     "output_type": "execute_result"
    }
   ],
   "source": [
    "factorial(5)"
   ]
  },
  {
   "cell_type": "code",
   "execution_count": null,
   "id": "c23c935a-c12b-4189-aad6-1de3e299b277",
   "metadata": {},
   "outputs": [],
   "source": []
  },
  {
   "cell_type": "code",
   "execution_count": null,
   "id": "91d0ed91-1559-4656-81bd-4670140e8f95",
   "metadata": {},
   "outputs": [],
   "source": []
  },
  {
   "cell_type": "code",
   "execution_count": null,
   "id": "ed466fd6-214a-442c-9929-8d41f1df8a0c",
   "metadata": {},
   "outputs": [],
   "source": []
  },
  {
   "cell_type": "code",
   "execution_count": 501,
   "id": "4e80f4d2-166a-4be4-b54f-d66a3bda5cf4",
   "metadata": {},
   "outputs": [
    {
     "name": "stdout",
     "output_type": "stream",
     "text": [
      "1\n"
     ]
    },
    {
     "ename": "TypeError",
     "evalue": "unsupported operand type(s) for *: 'int' and 'NoneType'",
     "output_type": "error",
     "traceback": [
      "\u001b[0;31m---------------------------------------------------------------------------\u001b[0m",
      "\u001b[0;31mTypeError\u001b[0m                                 Traceback (most recent call last)",
      "\u001b[0;32m/var/folders/r7/7x2__3ms6933lhq98cvf4rzm0000gn/T/ipykernel_34531/3864145595.py\u001b[0m in \u001b[0;36m<module>\u001b[0;34m\u001b[0m\n\u001b[0;32m----> 1\u001b[0;31m \u001b[0mtest\u001b[0m\u001b[0;34m(\u001b[0m\u001b[0;36m3\u001b[0m\u001b[0;34m)\u001b[0m\u001b[0;34m\u001b[0m\u001b[0;34m\u001b[0m\u001b[0m\n\u001b[0m",
      "\u001b[0;32m/var/folders/r7/7x2__3ms6933lhq98cvf4rzm0000gn/T/ipykernel_34531/3770535547.py\u001b[0m in \u001b[0;36mtest\u001b[0;34m(n)\u001b[0m\n\u001b[1;32m      2\u001b[0m     \u001b[0mn\u001b[0m \u001b[0;34m=\u001b[0m \u001b[0mint\u001b[0m\u001b[0;34m(\u001b[0m\u001b[0mn\u001b[0m\u001b[0;34m)\u001b[0m\u001b[0;34m\u001b[0m\u001b[0;34m\u001b[0m\u001b[0m\n\u001b[1;32m      3\u001b[0m     \u001b[0;32mwhile\u001b[0m \u001b[0mn\u001b[0m \u001b[0;34m>\u001b[0m \u001b[0;36m0\u001b[0m\u001b[0;34m:\u001b[0m\u001b[0;34m\u001b[0m\u001b[0;34m\u001b[0m\u001b[0m\n\u001b[0;32m----> 4\u001b[0;31m         \u001b[0mprint\u001b[0m\u001b[0;34m(\u001b[0m\u001b[0mn\u001b[0m\u001b[0;34m*\u001b[0m\u001b[0mtest\u001b[0m\u001b[0;34m(\u001b[0m\u001b[0mn\u001b[0m\u001b[0;34m-\u001b[0m\u001b[0;36m1\u001b[0m\u001b[0;34m)\u001b[0m\u001b[0;34m)\u001b[0m\u001b[0;34m\u001b[0m\u001b[0;34m\u001b[0m\u001b[0m\n\u001b[0m\u001b[1;32m      5\u001b[0m     \u001b[0mprint\u001b[0m\u001b[0;34m(\u001b[0m\u001b[0;36m1\u001b[0m\u001b[0;34m)\u001b[0m\u001b[0;34m\u001b[0m\u001b[0;34m\u001b[0m\u001b[0m\n\u001b[1;32m      6\u001b[0m \u001b[0;34m\u001b[0m\u001b[0m\n",
      "\u001b[0;32m/var/folders/r7/7x2__3ms6933lhq98cvf4rzm0000gn/T/ipykernel_34531/3770535547.py\u001b[0m in \u001b[0;36mtest\u001b[0;34m(n)\u001b[0m\n\u001b[1;32m      2\u001b[0m     \u001b[0mn\u001b[0m \u001b[0;34m=\u001b[0m \u001b[0mint\u001b[0m\u001b[0;34m(\u001b[0m\u001b[0mn\u001b[0m\u001b[0;34m)\u001b[0m\u001b[0;34m\u001b[0m\u001b[0;34m\u001b[0m\u001b[0m\n\u001b[1;32m      3\u001b[0m     \u001b[0;32mwhile\u001b[0m \u001b[0mn\u001b[0m \u001b[0;34m>\u001b[0m \u001b[0;36m0\u001b[0m\u001b[0;34m:\u001b[0m\u001b[0;34m\u001b[0m\u001b[0;34m\u001b[0m\u001b[0m\n\u001b[0;32m----> 4\u001b[0;31m         \u001b[0mprint\u001b[0m\u001b[0;34m(\u001b[0m\u001b[0mn\u001b[0m\u001b[0;34m*\u001b[0m\u001b[0mtest\u001b[0m\u001b[0;34m(\u001b[0m\u001b[0mn\u001b[0m\u001b[0;34m-\u001b[0m\u001b[0;36m1\u001b[0m\u001b[0;34m)\u001b[0m\u001b[0;34m)\u001b[0m\u001b[0;34m\u001b[0m\u001b[0;34m\u001b[0m\u001b[0m\n\u001b[0m\u001b[1;32m      5\u001b[0m     \u001b[0mprint\u001b[0m\u001b[0;34m(\u001b[0m\u001b[0;36m1\u001b[0m\u001b[0;34m)\u001b[0m\u001b[0;34m\u001b[0m\u001b[0;34m\u001b[0m\u001b[0m\n\u001b[1;32m      6\u001b[0m \u001b[0;34m\u001b[0m\u001b[0m\n",
      "\u001b[0;32m/var/folders/r7/7x2__3ms6933lhq98cvf4rzm0000gn/T/ipykernel_34531/3770535547.py\u001b[0m in \u001b[0;36mtest\u001b[0;34m(n)\u001b[0m\n\u001b[1;32m      2\u001b[0m     \u001b[0mn\u001b[0m \u001b[0;34m=\u001b[0m \u001b[0mint\u001b[0m\u001b[0;34m(\u001b[0m\u001b[0mn\u001b[0m\u001b[0;34m)\u001b[0m\u001b[0;34m\u001b[0m\u001b[0;34m\u001b[0m\u001b[0m\n\u001b[1;32m      3\u001b[0m     \u001b[0;32mwhile\u001b[0m \u001b[0mn\u001b[0m \u001b[0;34m>\u001b[0m \u001b[0;36m0\u001b[0m\u001b[0;34m:\u001b[0m\u001b[0;34m\u001b[0m\u001b[0;34m\u001b[0m\u001b[0m\n\u001b[0;32m----> 4\u001b[0;31m         \u001b[0mprint\u001b[0m\u001b[0;34m(\u001b[0m\u001b[0mn\u001b[0m\u001b[0;34m*\u001b[0m\u001b[0mtest\u001b[0m\u001b[0;34m(\u001b[0m\u001b[0mn\u001b[0m\u001b[0;34m-\u001b[0m\u001b[0;36m1\u001b[0m\u001b[0;34m)\u001b[0m\u001b[0;34m)\u001b[0m\u001b[0;34m\u001b[0m\u001b[0;34m\u001b[0m\u001b[0m\n\u001b[0m\u001b[1;32m      5\u001b[0m     \u001b[0mprint\u001b[0m\u001b[0;34m(\u001b[0m\u001b[0;36m1\u001b[0m\u001b[0;34m)\u001b[0m\u001b[0;34m\u001b[0m\u001b[0;34m\u001b[0m\u001b[0m\n\u001b[1;32m      6\u001b[0m \u001b[0;34m\u001b[0m\u001b[0m\n",
      "\u001b[0;31mTypeError\u001b[0m: unsupported operand type(s) for *: 'int' and 'NoneType'"
     ]
    }
   ],
   "source": [
    "test(3)"
   ]
  },
  {
   "cell_type": "code",
   "execution_count": null,
   "id": "534bf912-30d5-4eed-af2b-008ee60331c2",
   "metadata": {},
   "outputs": [],
   "source": []
  },
  {
   "cell_type": "code",
   "execution_count": null,
   "id": "625c06dc-c3db-462e-bd2d-d7574895b283",
   "metadata": {},
   "outputs": [],
   "source": []
  },
  {
   "cell_type": "code",
   "execution_count": null,
   "id": "7253e3ab-7ee1-498b-af5b-352b7e9d677a",
   "metadata": {},
   "outputs": [],
   "source": []
  },
  {
   "cell_type": "code",
   "execution_count": null,
   "id": "ceb0ed8e-a952-41ca-bf11-6e732db796fc",
   "metadata": {},
   "outputs": [],
   "source": []
  },
  {
   "cell_type": "code",
   "execution_count": null,
   "id": "cf3a15bc-ce12-42f9-9faa-4ce55b6b7412",
   "metadata": {},
   "outputs": [],
   "source": []
  },
  {
   "cell_type": "code",
   "execution_count": null,
   "id": "edb83854-b42f-4391-8480-f2188dc95730",
   "metadata": {},
   "outputs": [],
   "source": []
  },
  {
   "cell_type": "code",
   "execution_count": null,
   "id": "bbe5dd2b-637e-4ed7-af73-4aa92e31b3d2",
   "metadata": {},
   "outputs": [],
   "source": []
  },
  {
   "cell_type": "code",
   "execution_count": 488,
   "id": "6bcbee49-65c2-472f-8b15-1f1ed83be562",
   "metadata": {},
   "outputs": [
    {
     "name": "stdin",
     "output_type": "stream",
     "text": [
      " 3\n"
     ]
    },
    {
     "ename": "KeyboardInterrupt",
     "evalue": "",
     "output_type": "error",
     "traceback": [
      "\u001b[0;31m---------------------------------------------------------------------------\u001b[0m",
      "\u001b[0;31mKeyboardInterrupt\u001b[0m                         Traceback (most recent call last)",
      "\u001b[0;32m/var/folders/r7/7x2__3ms6933lhq98cvf4rzm0000gn/T/ipykernel_34531/3330063750.py\u001b[0m in \u001b[0;36m<module>\u001b[0;34m\u001b[0m\n\u001b[1;32m      2\u001b[0m \u001b[0manswer\u001b[0m \u001b[0;34m=\u001b[0m \u001b[0;36m1\u001b[0m\u001b[0;34m\u001b[0m\u001b[0;34m\u001b[0m\u001b[0m\n\u001b[1;32m      3\u001b[0m \u001b[0;32mwhile\u001b[0m \u001b[0mn\u001b[0m \u001b[0;34m>\u001b[0m \u001b[0;36m1\u001b[0m\u001b[0;34m:\u001b[0m\u001b[0;34m\u001b[0m\u001b[0;34m\u001b[0m\u001b[0m\n\u001b[0;32m----> 4\u001b[0;31m     \u001b[0;32mdef\u001b[0m \u001b[0mfactorial\u001b[0m\u001b[0;34m(\u001b[0m\u001b[0mn\u001b[0m\u001b[0;34m)\u001b[0m\u001b[0;34m:\u001b[0m\u001b[0;34m\u001b[0m\u001b[0;34m\u001b[0m\u001b[0m\n\u001b[0m\u001b[1;32m      5\u001b[0m         \u001b[0manswer\u001b[0m \u001b[0;34m=\u001b[0m \u001b[0manswer\u001b[0m \u001b[0;34m*\u001b[0m \u001b[0mn\u001b[0m\u001b[0;34m\u001b[0m\u001b[0;34m\u001b[0m\u001b[0m\n\u001b[1;32m      6\u001b[0m         \u001b[0mfactorial\u001b[0m\u001b[0;34m(\u001b[0m\u001b[0mn\u001b[0m\u001b[0;34m-\u001b[0m\u001b[0;36m1\u001b[0m\u001b[0;34m)\u001b[0m\u001b[0;34m\u001b[0m\u001b[0;34m\u001b[0m\u001b[0m\n",
      "\u001b[0;31mKeyboardInterrupt\u001b[0m: "
     ]
    }
   ],
   "source": [
    "n = int(input())\n",
    "answer = 1\n",
    "while n > 1:\n",
    "    def factorial(n):\n",
    "        answer = answer * n\n",
    "        factorial(n-1)\n",
    "print(answer)"
   ]
  },
  {
   "cell_type": "code",
   "execution_count": null,
   "id": "6bf0265d-594b-4db5-9c07-a6a550ccaa2b",
   "metadata": {},
   "outputs": [],
   "source": []
  },
  {
   "cell_type": "code",
   "execution_count": null,
   "id": "0b35cf5e-fa4e-450c-bd7b-91955f229291",
   "metadata": {},
   "outputs": [],
   "source": []
  },
  {
   "cell_type": "code",
   "execution_count": null,
   "id": "873ba1c1-fe17-4ba7-8731-5efdc378e941",
   "metadata": {},
   "outputs": [],
   "source": []
  },
  {
   "cell_type": "code",
   "execution_count": 471,
   "id": "67e82714-1971-4e5e-b36a-92ffe72b354e",
   "metadata": {},
   "outputs": [
    {
     "name": "stdout",
     "output_type": "stream",
     "text": [
      "2 3\n",
      "2 1\n"
     ]
    },
    {
     "ename": "TypeError",
     "evalue": "move() takes 3 positional arguments but 4 were given",
     "output_type": "error",
     "traceback": [
      "\u001b[0;31m---------------------------------------------------------------------------\u001b[0m",
      "\u001b[0;31mTypeError\u001b[0m                                 Traceback (most recent call last)",
      "\u001b[0;32m/var/folders/r7/7x2__3ms6933lhq98cvf4rzm0000gn/T/ipykernel_34531/3714849346.py\u001b[0m in \u001b[0;36m<module>\u001b[0;34m\u001b[0m\n\u001b[0;32m----> 1\u001b[0;31m \u001b[0mmove\u001b[0m\u001b[0;34m(\u001b[0m\u001b[0;36m3\u001b[0m\u001b[0;34m,\u001b[0m \u001b[0;36m2\u001b[0m\u001b[0;34m,\u001b[0m \u001b[0;36m3\u001b[0m\u001b[0;34m)\u001b[0m\u001b[0;34m\u001b[0m\u001b[0;34m\u001b[0m\u001b[0m\n\u001b[0m",
      "\u001b[0;32m/var/folders/r7/7x2__3ms6933lhq98cvf4rzm0000gn/T/ipykernel_34531/635779971.py\u001b[0m in \u001b[0;36mmove\u001b[0;34m(no, x, y)\u001b[0m\n\u001b[1;32m      1\u001b[0m \u001b[0;32mdef\u001b[0m \u001b[0mmove\u001b[0m\u001b[0;34m(\u001b[0m\u001b[0mno\u001b[0m\u001b[0;34m:\u001b[0m \u001b[0mint\u001b[0m\u001b[0;34m,\u001b[0m \u001b[0mx\u001b[0m\u001b[0;34m:\u001b[0m \u001b[0mint\u001b[0m\u001b[0;34m,\u001b[0m \u001b[0my\u001b[0m\u001b[0;34m:\u001b[0m \u001b[0mint\u001b[0m\u001b[0;34m)\u001b[0m\u001b[0;34m->\u001b[0m\u001b[0;32mNone\u001b[0m\u001b[0;34m:\u001b[0m\u001b[0;34m\u001b[0m\u001b[0;34m\u001b[0m\u001b[0m\n\u001b[1;32m      2\u001b[0m     \u001b[0;32mif\u001b[0m \u001b[0mno\u001b[0m \u001b[0;34m>\u001b[0m \u001b[0;36m1\u001b[0m\u001b[0;34m:\u001b[0m\u001b[0;34m\u001b[0m\u001b[0;34m\u001b[0m\u001b[0m\n\u001b[0;32m----> 3\u001b[0;31m         \u001b[0mmove\u001b[0m\u001b[0;34m(\u001b[0m\u001b[0mno\u001b[0m\u001b[0;34m-\u001b[0m\u001b[0;36m1\u001b[0m\u001b[0;34m,\u001b[0m \u001b[0mx\u001b[0m\u001b[0;34m,\u001b[0m \u001b[0;36m6\u001b[0m\u001b[0;34m-\u001b[0m\u001b[0mx\u001b[0m\u001b[0;34m-\u001b[0m\u001b[0my\u001b[0m\u001b[0;34m)\u001b[0m\u001b[0;34m\u001b[0m\u001b[0;34m\u001b[0m\u001b[0m\n\u001b[0m\u001b[1;32m      4\u001b[0m     \u001b[0mprint\u001b[0m\u001b[0;34m(\u001b[0m\u001b[0mx\u001b[0m\u001b[0;34m,\u001b[0m \u001b[0my\u001b[0m\u001b[0;34m)\u001b[0m\u001b[0;34m\u001b[0m\u001b[0;34m\u001b[0m\u001b[0m\n\u001b[1;32m      5\u001b[0m     \u001b[0;32mif\u001b[0m \u001b[0mno\u001b[0m \u001b[0;34m>\u001b[0m \u001b[0;36m1\u001b[0m\u001b[0;34m:\u001b[0m\u001b[0;34m\u001b[0m\u001b[0;34m\u001b[0m\u001b[0m\n",
      "\u001b[0;32m/var/folders/r7/7x2__3ms6933lhq98cvf4rzm0000gn/T/ipykernel_34531/635779971.py\u001b[0m in \u001b[0;36mmove\u001b[0;34m(no, x, y)\u001b[0m\n\u001b[1;32m      4\u001b[0m     \u001b[0mprint\u001b[0m\u001b[0;34m(\u001b[0m\u001b[0mx\u001b[0m\u001b[0;34m,\u001b[0m \u001b[0my\u001b[0m\u001b[0;34m)\u001b[0m\u001b[0;34m\u001b[0m\u001b[0;34m\u001b[0m\u001b[0m\n\u001b[1;32m      5\u001b[0m     \u001b[0;32mif\u001b[0m \u001b[0mno\u001b[0m \u001b[0;34m>\u001b[0m \u001b[0;36m1\u001b[0m\u001b[0;34m:\u001b[0m\u001b[0;34m\u001b[0m\u001b[0;34m\u001b[0m\u001b[0m\n\u001b[0;32m----> 6\u001b[0;31m         \u001b[0mmove\u001b[0m\u001b[0;34m(\u001b[0m\u001b[0mno\u001b[0m\u001b[0;34m-\u001b[0m\u001b[0;36m1\u001b[0m\u001b[0;34m,\u001b[0m \u001b[0;36m6\u001b[0m\u001b[0;34m-\u001b[0m\u001b[0mx\u001b[0m\u001b[0;34m,\u001b[0m\u001b[0;34m-\u001b[0m\u001b[0my\u001b[0m\u001b[0;34m,\u001b[0m \u001b[0my\u001b[0m\u001b[0;34m)\u001b[0m\u001b[0;34m\u001b[0m\u001b[0;34m\u001b[0m\u001b[0m\n\u001b[0m\u001b[1;32m      7\u001b[0m \u001b[0;34m\u001b[0m\u001b[0m\n",
      "\u001b[0;31mTypeError\u001b[0m: move() takes 3 positional arguments but 4 were given"
     ]
    }
   ],
   "source": [
    "move(3, 2, 3)"
   ]
  },
  {
   "cell_type": "code",
   "execution_count": null,
   "id": "cfac6b3b-539f-4c1e-9111-040724ecf08d",
   "metadata": {},
   "outputs": [],
   "source": []
  },
  {
   "cell_type": "code",
   "execution_count": 548,
   "id": "a74de386-e300-48a8-8a71-b79e0e3b2cc4",
   "metadata": {},
   "outputs": [
    {
     "name": "stdin",
     "output_type": "stream",
     "text": [
      " 5\n",
      " 5\n",
      " 2\n",
      " 3\n",
      " 4\n",
      " 1\n"
     ]
    }
   ],
   "source": [
    "n = int(input())\n",
    "tmp = [int(input()) for _ in range(n)]"
   ]
  },
  {
   "cell_type": "code",
   "execution_count": 549,
   "id": "c9ed083c-c05c-41f0-9d07-0d431d974ea6",
   "metadata": {},
   "outputs": [
    {
     "data": {
      "text/plain": [
       "[1, 2, 3, 4, 5]"
      ]
     },
     "execution_count": 549,
     "metadata": {},
     "output_type": "execute_result"
    }
   ],
   "source": [
    "sorted(tmp)"
   ]
  },
  {
   "cell_type": "code",
   "execution_count": 550,
   "id": "84bf0b29-61a1-4364-a3ed-8f15ac88d850",
   "metadata": {},
   "outputs": [
    {
     "data": {
      "text/plain": [
       "[5, 2, 3, 4, 1]"
      ]
     },
     "execution_count": 550,
     "metadata": {},
     "output_type": "execute_result"
    }
   ],
   "source": [
    "tmp"
   ]
  },
  {
   "cell_type": "code",
   "execution_count": 551,
   "id": "8bcb885c-9390-44bc-893c-0916b38c1ba4",
   "metadata": {},
   "outputs": [
    {
     "ename": "ValueError",
     "evalue": "invalid literal for int() with base 10: ''",
     "output_type": "error",
     "traceback": [
      "\u001b[0;31m---------------------------------------------------------------------------\u001b[0m",
      "\u001b[0;31mValueError\u001b[0m                                Traceback (most recent call last)",
      "\u001b[0;32m/var/folders/r7/7x2__3ms6933lhq98cvf4rzm0000gn/T/ipykernel_34531/2172348134.py\u001b[0m in \u001b[0;36m<module>\u001b[0;34m\u001b[0m\n\u001b[0;32m----> 1\u001b[0;31m \u001b[0mn\u001b[0m \u001b[0;34m=\u001b[0m \u001b[0mint\u001b[0m\u001b[0;34m(\u001b[0m\u001b[0msys\u001b[0m\u001b[0;34m.\u001b[0m\u001b[0mstdin\u001b[0m\u001b[0;34m.\u001b[0m\u001b[0mreadline\u001b[0m\u001b[0;34m(\u001b[0m\u001b[0;34m)\u001b[0m\u001b[0;34m)\u001b[0m\u001b[0;34m\u001b[0m\u001b[0;34m\u001b[0m\u001b[0m\n\u001b[0m\u001b[1;32m      2\u001b[0m \u001b[0mtmp\u001b[0m \u001b[0;34m=\u001b[0m \u001b[0;34m[\u001b[0m\u001b[0msys\u001b[0m\u001b[0;34m.\u001b[0m\u001b[0mstdin\u001b[0m\u001b[0;34m.\u001b[0m\u001b[0mreadline\u001b[0m\u001b[0;34m(\u001b[0m\u001b[0;34m)\u001b[0m \u001b[0;32mfor\u001b[0m \u001b[0m_\u001b[0m \u001b[0;32min\u001b[0m \u001b[0mrange\u001b[0m\u001b[0;34m(\u001b[0m\u001b[0mn\u001b[0m\u001b[0;34m)\u001b[0m\u001b[0;34m]\u001b[0m\u001b[0;34m\u001b[0m\u001b[0;34m\u001b[0m\u001b[0m\n\u001b[1;32m      3\u001b[0m \u001b[0;34m\u001b[0m\u001b[0m\n\u001b[1;32m      4\u001b[0m \u001b[0ma\u001b[0m \u001b[0;34m=\u001b[0m \u001b[0menumerate\u001b[0m\u001b[0;34m(\u001b[0m\u001b[0mtmp\u001b[0m\u001b[0;34m)\u001b[0m\u001b[0;34m\u001b[0m\u001b[0;34m\u001b[0m\u001b[0m\n",
      "\u001b[0;31mValueError\u001b[0m: invalid literal for int() with base 10: ''"
     ]
    }
   ],
   "source": [
    "n = int(sys.stdin.readline())\n",
    "tmp = [sys.stdin.readline() for _ in range(n)]\n",
    "\n",
    "a = enumerate(tmp)"
   ]
  },
  {
   "cell_type": "code",
   "execution_count": 564,
   "id": "d416c03d-a347-4f41-8591-1778eab2cb6c",
   "metadata": {},
   "outputs": [
    {
     "name": "stdin",
     "output_type": "stream",
     "text": [
      " 13\n",
      " but\n",
      " i\n",
      " wont\n",
      " hesitate\n",
      " no\n",
      " more\n",
      " no\n",
      " more\n",
      " it\n",
      " cannot\n",
      " wait\n",
      " im\n",
      " yours\n"
     ]
    }
   ],
   "source": [
    "n = int(input())\n",
    "tmp = [input() for _ in range(n)]\n",
    "\n",
    "a = enumerate(tmp)"
   ]
  },
  {
   "cell_type": "code",
   "execution_count": 565,
   "id": "4b99fd0b-cdc7-4ba3-8eb3-3c508f68565b",
   "metadata": {},
   "outputs": [],
   "source": [
    "a = list(a)"
   ]
  },
  {
   "cell_type": "code",
   "execution_count": 566,
   "id": "29b2bfa8-9698-4c28-b35f-2993c011981b",
   "metadata": {},
   "outputs": [
    {
     "data": {
      "text/plain": [
       "[(0, 'but'),\n",
       " (1, 'i'),\n",
       " (2, 'wont'),\n",
       " (3, 'hesitate'),\n",
       " (4, 'no'),\n",
       " (5, 'more'),\n",
       " (6, 'no'),\n",
       " (7, 'more'),\n",
       " (8, 'it'),\n",
       " (9, 'cannot'),\n",
       " (10, 'wait'),\n",
       " (11, 'im'),\n",
       " (12, 'yours')]"
      ]
     },
     "execution_count": 566,
     "metadata": {},
     "output_type": "execute_result"
    }
   ],
   "source": [
    "a"
   ]
  },
  {
   "cell_type": "code",
   "execution_count": 567,
   "id": "bc39b047-de37-4f59-9ee5-2038092f9b45",
   "metadata": {},
   "outputs": [
    {
     "data": {
      "text/plain": [
       "(1, 'i')"
      ]
     },
     "execution_count": 567,
     "metadata": {},
     "output_type": "execute_result"
    }
   ],
   "source": [
    "a[1]"
   ]
  },
  {
   "cell_type": "code",
   "execution_count": 570,
   "id": "d43f83e4-81ef-4c48-af48-88ca78ac254d",
   "metadata": {},
   "outputs": [
    {
     "name": "stdout",
     "output_type": "stream",
     "text": [
      "0 but\n",
      "1 i\n",
      "2 wont\n",
      "3 hesitate\n",
      "4 no\n",
      "5 more\n",
      "6 no\n",
      "7 more\n",
      "8 it\n",
      "9 cannot\n",
      "10 wait\n",
      "11 im\n",
      "12 yours\n"
     ]
    }
   ],
   "source": [
    "for index, value in a:\n",
    "    print(index, value)"
   ]
  },
  {
   "cell_type": "code",
   "execution_count": 571,
   "id": "562e071e-1a48-4403-bae6-c5deee0e7d61",
   "metadata": {},
   "outputs": [],
   "source": [
    "x = list()\n",
    "for index, value in a:\n",
    "    length = len(str(value))\n",
    "    y = (index, length)\n",
    "    x.append(y)"
   ]
  },
  {
   "cell_type": "code",
   "execution_count": 572,
   "id": "0a60ada0-5285-4dc2-855d-f756408a0b89",
   "metadata": {},
   "outputs": [
    {
     "data": {
      "text/plain": [
       "[(0, 3),\n",
       " (1, 1),\n",
       " (2, 4),\n",
       " (3, 8),\n",
       " (4, 2),\n",
       " (5, 4),\n",
       " (6, 2),\n",
       " (7, 4),\n",
       " (8, 2),\n",
       " (9, 6),\n",
       " (10, 4),\n",
       " (11, 2),\n",
       " (12, 5)]"
      ]
     },
     "execution_count": 572,
     "metadata": {},
     "output_type": "execute_result"
    }
   ],
   "source": [
    "x"
   ]
  },
  {
   "cell_type": "code",
   "execution_count": 573,
   "id": "8171c6be-8d59-438b-909e-f2378697dc8c",
   "metadata": {},
   "outputs": [],
   "source": [
    "x.sort(key = lambda x: x[1])"
   ]
  },
  {
   "cell_type": "code",
   "execution_count": 592,
   "id": "a8bbc32e-3ed0-4e96-a320-88ff3b66cae8",
   "metadata": {},
   "outputs": [
    {
     "data": {
      "text/plain": [
       "[(1, 1),\n",
       " (4, 2),\n",
       " (6, 2),\n",
       " (8, 2),\n",
       " (11, 2),\n",
       " (0, 3),\n",
       " (2, 4),\n",
       " (5, 4),\n",
       " (7, 4),\n",
       " (10, 4),\n",
       " (12, 5),\n",
       " (9, 6),\n",
       " (3, 8)]"
      ]
     },
     "execution_count": 592,
     "metadata": {},
     "output_type": "execute_result"
    }
   ],
   "source": [
    "x"
   ]
  },
  {
   "cell_type": "code",
   "execution_count": 593,
   "id": "ac4df7ed-f9e5-4eaa-b88a-e71d26ca95a7",
   "metadata": {},
   "outputs": [],
   "source": [
    "order_key = list()\n",
    "for i in x:\n",
    "    order_key.append(i[0])"
   ]
  },
  {
   "cell_type": "code",
   "execution_count": 584,
   "id": "333415f7-9a55-45f6-949d-d66e2f689a6f",
   "metadata": {},
   "outputs": [
    {
     "data": {
      "text/plain": [
       "[1, 4, 6, 8, 11, 0, 2, 5, 7, 10, 12, 9, 3]"
      ]
     },
     "execution_count": 584,
     "metadata": {},
     "output_type": "execute_result"
    }
   ],
   "source": [
    "order_key"
   ]
  },
  {
   "cell_type": "code",
   "execution_count": 594,
   "id": "5baf455e-1900-4087-88fc-6829ece8449e",
   "metadata": {},
   "outputs": [],
   "source": [
    "order_key = order_key[::-1]"
   ]
  },
  {
   "cell_type": "code",
   "execution_count": 588,
   "id": "db29a378-4a0f-4f31-ad18-64094a6d696c",
   "metadata": {},
   "outputs": [
    {
     "data": {
      "text/plain": [
       "[3, 9, 12, 10, 7, 5, 2, 0, 11, 8, 6, 4, 1]"
      ]
     },
     "execution_count": 588,
     "metadata": {},
     "output_type": "execute_result"
    }
   ],
   "source": [
    "order_key"
   ]
  },
  {
   "cell_type": "code",
   "execution_count": null,
   "id": "950e7dc6-7df8-4623-831c-d46ea084d51d",
   "metadata": {},
   "outputs": [],
   "source": []
  },
  {
   "cell_type": "code",
   "execution_count": null,
   "id": "ebd0be58-f0b7-4b9f-b674-6fe4d724d53f",
   "metadata": {},
   "outputs": [],
   "source": []
  },
  {
   "cell_type": "code",
   "execution_count": null,
   "id": "5dc50cb4-84d6-4dbd-9e34-c585dd0b7593",
   "metadata": {},
   "outputs": [],
   "source": []
  },
  {
   "cell_type": "code",
   "execution_count": null,
   "id": "83fdf715-5ab0-40fa-945d-3fcbf9325491",
   "metadata": {},
   "outputs": [],
   "source": []
  },
  {
   "cell_type": "code",
   "execution_count": 595,
   "id": "89d24b1e-19d4-41df-8178-29f895c81dab",
   "metadata": {},
   "outputs": [
    {
     "name": "stdout",
     "output_type": "stream",
     "text": [
      "i\n",
      "no\n",
      "no\n",
      "it\n",
      "im\n",
      "but\n",
      "wont\n",
      "more\n",
      "more\n",
      "wait\n",
      "yours\n",
      "cannot\n",
      "hesitate\n"
     ]
    }
   ],
   "source": [
    "c = list()\n",
    "for i in range(n):\n",
    "    c.append(tmp[order_key.pop()])\n",
    "for i in c:\n",
    "    print(i)"
   ]
  },
  {
   "cell_type": "code",
   "execution_count": 590,
   "id": "634689e2-4481-42cd-9235-47809a038b73",
   "metadata": {},
   "outputs": [
    {
     "data": {
      "text/plain": [
       "['i',\n",
       " 'no',\n",
       " 'no',\n",
       " 'it',\n",
       " 'im',\n",
       " 'but',\n",
       " 'wont',\n",
       " 'more',\n",
       " 'more',\n",
       " 'wait',\n",
       " 'yours',\n",
       " 'cannot',\n",
       " 'hesitate']"
      ]
     },
     "execution_count": 590,
     "metadata": {},
     "output_type": "execute_result"
    }
   ],
   "source": [
    "c"
   ]
  },
  {
   "cell_type": "code",
   "execution_count": 596,
   "id": "af010492-0816-4c71-9ba6-92d143f0b076",
   "metadata": {},
   "outputs": [
    {
     "ename": "ValueError",
     "evalue": "invalid literal for int() with base 10: ''",
     "output_type": "error",
     "traceback": [
      "\u001b[0;31m---------------------------------------------------------------------------\u001b[0m",
      "\u001b[0;31mValueError\u001b[0m                                Traceback (most recent call last)",
      "\u001b[0;32m/var/folders/r7/7x2__3ms6933lhq98cvf4rzm0000gn/T/ipykernel_34531/1675787253.py\u001b[0m in \u001b[0;36m<module>\u001b[0;34m\u001b[0m\n\u001b[0;32m----> 1\u001b[0;31m \u001b[0mn\u001b[0m \u001b[0;34m=\u001b[0m \u001b[0mint\u001b[0m\u001b[0;34m(\u001b[0m\u001b[0msys\u001b[0m\u001b[0;34m.\u001b[0m\u001b[0mstdin\u001b[0m\u001b[0;34m.\u001b[0m\u001b[0mreadline\u001b[0m\u001b[0;34m(\u001b[0m\u001b[0;34m)\u001b[0m\u001b[0;34m)\u001b[0m\u001b[0;34m\u001b[0m\u001b[0;34m\u001b[0m\u001b[0m\n\u001b[0m\u001b[1;32m      2\u001b[0m \u001b[0mtmp\u001b[0m \u001b[0;34m=\u001b[0m \u001b[0;34m[\u001b[0m\u001b[0msys\u001b[0m\u001b[0;34m.\u001b[0m\u001b[0mstdin\u001b[0m\u001b[0;34m.\u001b[0m\u001b[0mreadline\u001b[0m\u001b[0;34m(\u001b[0m\u001b[0;34m)\u001b[0m \u001b[0;32mfor\u001b[0m \u001b[0m_\u001b[0m \u001b[0;32min\u001b[0m \u001b[0mrange\u001b[0m\u001b[0;34m(\u001b[0m\u001b[0mn\u001b[0m\u001b[0;34m)\u001b[0m\u001b[0;34m]\u001b[0m\u001b[0;34m\u001b[0m\u001b[0;34m\u001b[0m\u001b[0m\n\u001b[1;32m      3\u001b[0m \u001b[0;34m\u001b[0m\u001b[0m\n\u001b[1;32m      4\u001b[0m \u001b[0ma\u001b[0m \u001b[0;34m=\u001b[0m \u001b[0mlist\u001b[0m\u001b[0;34m(\u001b[0m\u001b[0menumerate\u001b[0m\u001b[0;34m(\u001b[0m\u001b[0mtmp\u001b[0m\u001b[0;34m)\u001b[0m\u001b[0;34m)\u001b[0m\u001b[0;34m\u001b[0m\u001b[0;34m\u001b[0m\u001b[0m\n\u001b[1;32m      5\u001b[0m \u001b[0;34m\u001b[0m\u001b[0m\n",
      "\u001b[0;31mValueError\u001b[0m: invalid literal for int() with base 10: ''"
     ]
    }
   ],
   "source": [
    "n = int(sys.stdin.readline())\n",
    "tmp = [sys.stdin.readline() for _ in range(n)]\n",
    "\n",
    "a = list(enumerate(tmp))\n",
    "\n",
    "x = list()\n",
    "for index, value in a:\n",
    "    length = len(str(value))\n",
    "    y = (index, length)\n",
    "    x.append(y)\n",
    "x.sort(key = lambda x: x[1])\n",
    "order_key = list()\n",
    "for i in x:\n",
    "    order_key.append(i[0])\n",
    "order_key = order_key[::-1]\n",
    "c = list()\n",
    "for i in range(n):\n",
    "    c.append(tmp[order_key.pop()])\n",
    "for i in c:\n",
    "    print(i)"
   ]
  },
  {
   "cell_type": "code",
   "execution_count": 597,
   "id": "999a3a67-7bf8-438c-bd5b-b65cc41c78d4",
   "metadata": {},
   "outputs": [
    {
     "name": "stdin",
     "output_type": "stream",
     "text": [
      " 4\n",
      " how\n",
      " are\n",
      " you\n",
      " doing\n"
     ]
    },
    {
     "name": "stdout",
     "output_type": "stream",
     "text": [
      "how\n",
      "are\n",
      "you\n",
      "doing\n"
     ]
    }
   ],
   "source": [
    "n = int(input())\n",
    "tmp = [input() for _ in range(n)]\n",
    "\n",
    "a = list(enumerate(tmp))\n",
    "\n",
    "x = list()\n",
    "for index, value in a:\n",
    "    length = len(str(value))\n",
    "    y = (index, length)\n",
    "    x.append(y)\n",
    "x.sort(key = lambda x: x[1])\n",
    "order_key = list()\n",
    "for i in x:\n",
    "    order_key.append(i[0])\n",
    "order_key = order_key[::-1]\n",
    "c = list()\n",
    "for i in range(n):\n",
    "    c.append(tmp[order_key.pop()])\n",
    "for i in c:\n",
    "    print(i)"
   ]
  },
  {
   "cell_type": "code",
   "execution_count": null,
   "id": "754347ae-1188-4921-bbef-a980b51ee6a6",
   "metadata": {},
   "outputs": [],
   "source": []
  },
  {
   "cell_type": "code",
   "execution_count": 609,
   "id": "ff959181-84be-4a27-b57f-58f88e3e2e06",
   "metadata": {},
   "outputs": [
    {
     "name": "stdin",
     "output_type": "stream",
     "text": [
      " 20\n",
      " 7\n",
      " 23\n",
      " 19\n",
      " 10\n",
      " 15\n",
      " 25\n",
      " 8\n",
      " 13\n"
     ]
    }
   ],
   "source": [
    "height = [int(input()) for  _ in range(9)]"
   ]
  },
  {
   "cell_type": "code",
   "execution_count": 610,
   "id": "1d7cf857-a9ca-470b-b435-66478443227d",
   "metadata": {},
   "outputs": [
    {
     "ename": "IndexError",
     "evalue": "pop index out of range",
     "output_type": "error",
     "traceback": [
      "\u001b[0;31m---------------------------------------------------------------------------\u001b[0m",
      "\u001b[0;31mIndexError\u001b[0m                                Traceback (most recent call last)",
      "\u001b[0;32m/var/folders/r7/7x2__3ms6933lhq98cvf4rzm0000gn/T/ipykernel_34531/3633741846.py\u001b[0m in \u001b[0;36m<module>\u001b[0;34m\u001b[0m\n\u001b[1;32m      3\u001b[0m         \u001b[0mtmp\u001b[0m\u001b[0;34m.\u001b[0m\u001b[0mpop\u001b[0m\u001b[0;34m(\u001b[0m\u001b[0mi\u001b[0m\u001b[0;34m)\u001b[0m\u001b[0;34m\u001b[0m\u001b[0;34m\u001b[0m\u001b[0m\n\u001b[1;32m      4\u001b[0m         \u001b[0;32mfor\u001b[0m \u001b[0md\u001b[0m \u001b[0;32min\u001b[0m \u001b[0mrange\u001b[0m\u001b[0;34m(\u001b[0m\u001b[0mlen\u001b[0m\u001b[0;34m(\u001b[0m\u001b[0mheight\u001b[0m\u001b[0;34m)\u001b[0m\u001b[0;34m-\u001b[0m\u001b[0;36m1\u001b[0m\u001b[0;34m)\u001b[0m\u001b[0;34m:\u001b[0m\u001b[0;34m\u001b[0m\u001b[0;34m\u001b[0m\u001b[0m\n\u001b[0;32m----> 5\u001b[0;31m             \u001b[0mtmp\u001b[0m\u001b[0;34m.\u001b[0m\u001b[0mpop\u001b[0m\u001b[0;34m(\u001b[0m\u001b[0md\u001b[0m\u001b[0;34m)\u001b[0m\u001b[0;34m\u001b[0m\u001b[0;34m\u001b[0m\u001b[0m\n\u001b[0m\u001b[1;32m      6\u001b[0m         \u001b[0;32mif\u001b[0m \u001b[0msum\u001b[0m\u001b[0;34m(\u001b[0m\u001b[0mtmp\u001b[0m\u001b[0;34m)\u001b[0m \u001b[0;34m<\u001b[0m \u001b[0;36m100\u001b[0m\u001b[0;34m:\u001b[0m\u001b[0;34m\u001b[0m\u001b[0;34m\u001b[0m\u001b[0m\n\u001b[1;32m      7\u001b[0m             \u001b[0mprint\u001b[0m\u001b[0;34m(\u001b[0m\u001b[0mtmp\u001b[0m\u001b[0;34m)\u001b[0m\u001b[0;34m\u001b[0m\u001b[0;34m\u001b[0m\u001b[0m\n",
      "\u001b[0;31mIndexError\u001b[0m: pop index out of range"
     ]
    }
   ],
   "source": [
    "for i in range(len(height)):\n",
    "        tmp = height\n",
    "        tmp.pop(i)\n",
    "        for d in range(len(height)-1):\n",
    "            tmp.pop(d)\n",
    "        if sum(tmp) < 100:\n",
    "            print(tmp)\n",
    "    \n",
    "    \n",
    "    "
   ]
  },
  {
   "cell_type": "code",
   "execution_count": 612,
   "id": "bee32d13-ad4a-4be7-b86b-d3a1feb36d29",
   "metadata": {},
   "outputs": [],
   "source": [
    "tmp = height"
   ]
  },
  {
   "cell_type": "code",
   "execution_count": 613,
   "id": "3bd651d0-8a86-4485-9574-c9b9a73a6537",
   "metadata": {},
   "outputs": [
    {
     "data": {
      "text/plain": [
       "[23, 10, 25, 13]"
      ]
     },
     "execution_count": 613,
     "metadata": {},
     "output_type": "execute_result"
    }
   ],
   "source": [
    "tmp"
   ]
  },
  {
   "cell_type": "code",
   "execution_count": null,
   "id": "7d65e54a-ee83-43d6-bd94-fef95e323330",
   "metadata": {},
   "outputs": [],
   "source": [
    "2 3 1   11"
   ]
  },
  {
   "cell_type": "code",
   "execution_count": 611,
   "id": "5c9d1608-2fd9-4334-b433-c4f792c1b1c6",
   "metadata": {},
   "outputs": [
    {
     "data": {
      "text/plain": [
       "[(0, 'how'), (1, 'are'), (2, 'you'), (3, 'doing')]"
      ]
     },
     "execution_count": 611,
     "metadata": {},
     "output_type": "execute_result"
    }
   ],
   "source": [
    "dfd"
   ]
  },
  {
   "cell_type": "code",
   "execution_count": 614,
   "id": "975f1567-df8a-42bf-a819-3559806f5f2f",
   "metadata": {},
   "outputs": [
    {
     "data": {
      "text/plain": [
       "[(0, 'how'), (1, 'are'), (2, 'you'), (3, 'doing')]"
      ]
     },
     "execution_count": 614,
     "metadata": {},
     "output_type": "execute_result"
    }
   ],
   "source": [
    "a"
   ]
  },
  {
   "cell_type": "code",
   "execution_count": 616,
   "id": "1bc1ee13-e8d3-4f10-bb4b-c46c53dc4534",
   "metadata": {},
   "outputs": [
    {
     "name": "stdin",
     "output_type": "stream",
     "text": [
      " 2 3 1\n"
     ]
    }
   ],
   "source": [
    "n, r, c = map(int, input().split())"
   ]
  },
  {
   "cell_type": "code",
   "execution_count": 622,
   "id": "37bc8ac0-cd8d-4137-a32f-b2cbac7dbcd5",
   "metadata": {},
   "outputs": [],
   "source": [
    "square = 2**(n-1)"
   ]
  },
  {
   "cell_type": "code",
   "execution_count": 624,
   "id": "24e5ea12-213e-4f0a-9b30-f9f31a8b65be",
   "metadata": {},
   "outputs": [
    {
     "data": {
      "text/plain": [
       "2"
      ]
     },
     "execution_count": 624,
     "metadata": {},
     "output_type": "execute_result"
    }
   ],
   "source": [
    "if r >  square:\n",
    "    if c > square:\n",
    "        (square**2)*3 + "
   ]
  },
  {
   "cell_type": "code",
   "execution_count": null,
   "id": "cda02a45-4266-4bfc-aeed-8683b94a7253",
   "metadata": {},
   "outputs": [],
   "source": [
    "1, 2, 2"
   ]
  },
  {
   "cell_type": "code",
   "execution_count": null,
   "id": "efa642aa-eac3-4e8a-950b-50efcd1f9f7d",
   "metadata": {},
   "outputs": [],
   "source": [
    "(1, 1) - 1\n",
    "(1, 2) - 2\n",
    "(2, 1) - 3\n",
    "(2, 2) - 4"
   ]
  },
  {
   "cell_type": "code",
   "execution_count": 648,
   "id": "969e582b-7fdd-44d1-9ac1-4372f833b4b6",
   "metadata": {},
   "outputs": [
    {
     "name": "stdin",
     "output_type": "stream",
     "text": [
      " 1 3 7 9 21 35\n"
     ]
    }
   ],
   "source": [
    "a = list(map(int, input().split()))"
   ]
  },
  {
   "cell_type": "code",
   "execution_count": 649,
   "id": "692288ca-ec1a-4d5d-a849-c3e992c600c8",
   "metadata": {},
   "outputs": [
    {
     "name": "stdout",
     "output_type": "stream",
     "text": [
      "5\n"
     ]
    }
   ],
   "source": [
    "if 1 in a:\n",
    "    a.remove(1)\n",
    "    \n",
    "def is_prime(n):\n",
    "    for i in range(2, n):\n",
    "        if n%i == 0:\n",
    "            break\n",
    "        return True\n",
    "count = 0\n",
    "for i in a:\n",
    "    if is_prime(i) == True:\n",
    "        count += 1\n",
    "print(count)"
   ]
  },
  {
   "cell_type": "code",
   "execution_count": null,
   "id": "5ff1a99e-a007-4344-97dd-f951c48d1748",
   "metadata": {},
   "outputs": [],
   "source": []
  },
  {
   "cell_type": "code",
   "execution_count": null,
   "id": "937908d2-00ea-4592-9e7a-b2a2a40d0758",
   "metadata": {},
   "outputs": [],
   "source": []
  },
  {
   "cell_type": "code",
   "execution_count": null,
   "id": "cfa7fdbf-d982-4155-87e5-f0810a965ff0",
   "metadata": {},
   "outputs": [],
   "source": []
  },
  {
   "cell_type": "code",
   "execution_count": null,
   "id": "84321f18-4b31-44fe-a119-6622b8ed0b78",
   "metadata": {},
   "outputs": [],
   "source": []
  },
  {
   "cell_type": "code",
   "execution_count": null,
   "id": "d81b9203-3d96-4819-ad3f-03709fc393ae",
   "metadata": {},
   "outputs": [],
   "source": []
  },
  {
   "cell_type": "code",
   "execution_count": 625,
   "id": "d5c82679-f74a-46dc-b971-1fc0c617ea05",
   "metadata": {},
   "outputs": [
    {
     "name": "stdin",
     "output_type": "stream",
     "text": [
      " 5\n"
     ]
    }
   ],
   "source": [
    "n = int(input())"
   ]
  },
  {
   "cell_type": "code",
   "execution_count": 626,
   "id": "cd8f9b87-ab2e-4627-8028-b55502f3edd4",
   "metadata": {},
   "outputs": [
    {
     "name": "stdin",
     "output_type": "stream",
     "text": [
      " OOXXOXXOOO\n",
      " OOXXOOXXOO\n",
      " OXOXOXOXOXOXOX\n",
      " OOOOOOOOOO\n",
      " OOOOXOOOOXOOOOX\n"
     ]
    }
   ],
   "source": [
    "tmp = [list(input()) for _ in range(n)]"
   ]
  },
  {
   "cell_type": "code",
   "execution_count": 632,
   "id": "b2ab0d08-e640-48dc-93fe-852f4e158eb7",
   "metadata": {},
   "outputs": [
    {
     "data": {
      "text/plain": [
       "[['O', 'O', 'X', 'X', 'O', 'X', 'X', 'O', 'O', 'O'],\n",
       " ['O', 'O', 'X', 'X', 'O', 'O', 'X', 'X', 'O', 'O'],\n",
       " ['O', 'X', 'O', 'X', 'O', 'X', 'O', 'X', 'O', 'X', 'O', 'X', 'O', 'X'],\n",
       " ['O', 'O', 'O', 'O', 'O', 'O', 'O', 'O', 'O', 'O'],\n",
       " ['O', 'O', 'O', 'O', 'X', 'O', 'O', 'O', 'O', 'X', 'O', 'O', 'O', 'O', 'X']]"
      ]
     },
     "execution_count": 632,
     "metadata": {},
     "output_type": "execute_result"
    }
   ],
   "source": [
    "tmp"
   ]
  },
  {
   "cell_type": "code",
   "execution_count": 637,
   "id": "4bb9cd36-d90a-48ff-ac85-73ab31af984d",
   "metadata": {},
   "outputs": [
    {
     "name": "stdout",
     "output_type": "stream",
     "text": [
      "10\n",
      "9\n",
      "7\n",
      "55\n",
      "30\n"
     ]
    }
   ],
   "source": [
    "answer = list()\n",
    "for quiz_set in tmp:\n",
    "    final = 0\n",
    "    for index, each_q in list(enumerate(quiz_set)):\n",
    "        if each_q == \"O\":\n",
    "            x = quiz_set[:index]\n",
    "            score = 1\n",
    "            while len(x) > 0:\n",
    "                if x.pop() == \"O\":\n",
    "                    score += 1\n",
    "                else:\n",
    "                    break\n",
    "            final += score\n",
    "    print(final)"
   ]
  },
  {
   "cell_type": "code",
   "execution_count": 634,
   "id": "ae4389e3-899d-4965-b1f0-8bc714cfe9bf",
   "metadata": {},
   "outputs": [
    {
     "data": {
      "text/plain": [
       "[111]"
      ]
     },
     "execution_count": 634,
     "metadata": {},
     "output_type": "execute_result"
    }
   ],
   "source": [
    "answer"
   ]
  },
  {
   "cell_type": "code",
   "execution_count": null,
   "id": "8df9e41d-ebfa-45f4-b3bd-75d11cd39a85",
   "metadata": {},
   "outputs": [],
   "source": []
  },
  {
   "cell_type": "code",
   "execution_count": null,
   "id": "dd97ce8f-5812-48b2-9b90-af275ea922c7",
   "metadata": {},
   "outputs": [],
   "source": []
  },
  {
   "cell_type": "code",
   "execution_count": 651,
   "id": "03205c8c-9f2c-4fb2-afc8-904557e7c5f2",
   "metadata": {},
   "outputs": [
    {
     "data": {
      "text/plain": [
       "[['1', '2', '3', '4']]"
      ]
     },
     "execution_count": 651,
     "metadata": {},
     "output_type": "execute_result"
    }
   ],
   "source": [
    "w = input().split()"
   ]
  },
  {
   "cell_type": "code",
   "execution_count": null,
   "id": "d850b41e-3ce4-4821-b645-567fab19daa6",
   "metadata": {},
   "outputs": [],
   "source": []
  },
  {
   "cell_type": "code",
   "execution_count": 664,
   "id": "d4f9381b-c5ef-4e12-a93b-2fcb3716628f",
   "metadata": {},
   "outputs": [
    {
     "name": "stdin",
     "output_type": "stream",
     "text": [
      " 5\n",
      " 1 2 3 7 19\n"
     ]
    },
    {
     "name": "stdout",
     "output_type": "stream",
     "text": [
      "[2, 3, 7, 19]\n",
      "start 2\n",
      "start 3\n",
      "start 3\n",
      "start 7\n",
      "start 7\n",
      "start 7\n",
      "start 7\n",
      "start 7\n",
      "start 7\n",
      "start 19\n",
      "start 19\n",
      "start 19\n",
      "start 19\n",
      "start 19\n",
      "start 19\n",
      "start 19\n",
      "start 19\n",
      "start 19\n",
      "start 19\n",
      "start 19\n",
      "start 19\n",
      "start 19\n",
      "start 19\n",
      "start 19\n",
      "start 19\n",
      "start 19\n",
      "start 19\n",
      "4\n"
     ]
    }
   ],
   "source": [
    "n = input()\n",
    "tmp = list(map(int, input().split()))\n",
    "if 1 in tmp:\n",
    "    tmp.remove(1)\n",
    "print(tmp) \n",
    "def is_prime(n):\n",
    "    for i in range(2, n+1):\n",
    "        print(\"start\", n)\n",
    "        if n%i == 0:\n",
    "            if i == n:\n",
    "                return True\n",
    "            break\n",
    "count = 0\n",
    "for i in tmp:\n",
    "    if is_prime(i) == True:\n",
    "        count += 1\n",
    "print(count)"
   ]
  },
  {
   "cell_type": "code",
   "execution_count": null,
   "id": "d9d38c5a-9f8f-4839-9458-d13d84bb71f6",
   "metadata": {},
   "outputs": [],
   "source": []
  },
  {
   "cell_type": "code",
   "execution_count": 691,
   "id": "40ee6228-5527-4a1d-b56e-24828e68d7b9",
   "metadata": {},
   "outputs": [],
   "source": [
    "def gold_bach(n):\n",
    "    prime_set = list()\n",
    "    for i in range(2, n+1):\n",
    "        for d in range(2, i+1):   \n",
    "            if i%d == 0:\n",
    "                continue\n",
    "            if d != i:\n",
    "                prime_set.append(i)\n",
    "                \n",
    "    print(prime_set)   \n",
    "    pair = list()\n",
    "    for i in prime_set:\n",
    "        if (n - i) in prime_set:\n",
    "            pair.append((i, n-i))\n",
    "    pair.sort(key=lambda x: x[1]-x[0])\n",
    "    print(pair)\n",
    "    print(pair[-1][0], pair[-1][1])\n",
    "            \n",
    "  \n",
    "\n",
    "\n",
    "\n",
    "# n까지 정수 중 prime number set\n"
   ]
  },
  {
   "cell_type": "code",
   "execution_count": 692,
   "id": "182b35df-2c06-4cc3-bdcd-0bfc458d5cc4",
   "metadata": {},
   "outputs": [
    {
     "name": "stdout",
     "output_type": "stream",
     "text": [
      "[3, 4, 5, 5, 5, 6, 6, 7, 7, 7, 7, 7, 8, 8, 8, 8, 9, 9, 9, 9, 9, 9, 10, 10, 10, 10, 10, 10]\n",
      "[(7, 3), (7, 3), (7, 3), (7, 3), (7, 3), (6, 4), (6, 4), (5, 5), (5, 5), (5, 5), (4, 6), (3, 7)]\n",
      "3 7\n"
     ]
    }
   ],
   "source": [
    "gold_bach(10)"
   ]
  },
  {
   "cell_type": "code",
   "execution_count": 693,
   "id": "fd86ab7d-ec58-47c9-a8d6-b291a8e212ee",
   "metadata": {},
   "outputs": [],
   "source": [
    "import sys"
   ]
  },
  {
   "cell_type": "code",
   "execution_count": 694,
   "id": "7fd02166-f795-4c1c-9dae-14cf7e4bec92",
   "metadata": {},
   "outputs": [
    {
     "ename": "ValueError",
     "evalue": "invalid literal for int() with base 10: ''",
     "output_type": "error",
     "traceback": [
      "\u001b[0;31m---------------------------------------------------------------------------\u001b[0m",
      "\u001b[0;31mValueError\u001b[0m                                Traceback (most recent call last)",
      "\u001b[0;32m/var/folders/r7/7x2__3ms6933lhq98cvf4rzm0000gn/T/ipykernel_34531/2210437422.py\u001b[0m in \u001b[0;36m<module>\u001b[0;34m\u001b[0m\n\u001b[1;32m      1\u001b[0m \u001b[0;32mimport\u001b[0m \u001b[0msys\u001b[0m\u001b[0;34m\u001b[0m\u001b[0;34m\u001b[0m\u001b[0m\n\u001b[0;32m----> 2\u001b[0;31m \u001b[0mn\u001b[0m \u001b[0;34m=\u001b[0m \u001b[0mint\u001b[0m\u001b[0;34m(\u001b[0m\u001b[0msys\u001b[0m\u001b[0;34m.\u001b[0m\u001b[0mstdin\u001b[0m\u001b[0;34m.\u001b[0m\u001b[0mreadline\u001b[0m\u001b[0;34m(\u001b[0m\u001b[0;34m)\u001b[0m\u001b[0;34m)\u001b[0m\u001b[0;34m\u001b[0m\u001b[0;34m\u001b[0m\u001b[0m\n\u001b[0m\u001b[1;32m      3\u001b[0m \u001b[0mtmp\u001b[0m \u001b[0;34m=\u001b[0m \u001b[0mlist\u001b[0m\u001b[0;34m(\u001b[0m\u001b[0;34m)\u001b[0m\u001b[0;34m\u001b[0m\u001b[0;34m\u001b[0m\u001b[0m\n\u001b[1;32m      4\u001b[0m \u001b[0mtmp\u001b[0m\u001b[0;34m.\u001b[0m\u001b[0mappend\u001b[0m\u001b[0;34m(\u001b[0m\u001b[0mint\u001b[0m\u001b[0;34m(\u001b[0m\u001b[0msys\u001b[0m\u001b[0;34m.\u001b[0m\u001b[0mstdin\u001b[0m\u001b[0;34m.\u001b[0m\u001b[0mreadline\u001b[0m\u001b[0;34m(\u001b[0m\u001b[0;34m)\u001b[0m\u001b[0;34m)\u001b[0m \u001b[0;32mfor\u001b[0m \u001b[0m_\u001b[0m \u001b[0;32min\u001b[0m \u001b[0mrange\u001b[0m\u001b[0;34m(\u001b[0m\u001b[0mn\u001b[0m\u001b[0;34m)\u001b[0m\u001b[0;34m)\u001b[0m\u001b[0;34m\u001b[0m\u001b[0;34m\u001b[0m\u001b[0m\n\u001b[1;32m      5\u001b[0m \u001b[0mtmp\u001b[0m \u001b[0;34m=\u001b[0m \u001b[0msorted\u001b[0m\u001b[0;34m(\u001b[0m\u001b[0mtmp\u001b[0m\u001b[0;34m)\u001b[0m\u001b[0;34m\u001b[0m\u001b[0;34m\u001b[0m\u001b[0m\n",
      "\u001b[0;31mValueError\u001b[0m: invalid literal for int() with base 10: ''"
     ]
    }
   ],
   "source": [
    "import sys\n",
    "n = int(sys.stdin.readline())\n",
    "tmp = list()\n",
    "tmp.append(int(sys.stdin.readline()) for _ in range(n))\n",
    "tmp = sorted(tmp)\n",
    "for i in tmp:\n",
    "    print(i)"
   ]
  },
  {
   "cell_type": "code",
   "execution_count": 695,
   "id": "0f815603-0510-4dad-84d1-4aa6717c6343",
   "metadata": {},
   "outputs": [],
   "source": [
    "a = [2, 6, 3, 7]"
   ]
  },
  {
   "cell_type": "code",
   "execution_count": 697,
   "id": "dbd78238-6bb5-4f71-87a7-b4bf8a4757e2",
   "metadata": {},
   "outputs": [],
   "source": [
    "a.sort()"
   ]
  },
  {
   "cell_type": "code",
   "execution_count": 698,
   "id": "54ce4c93-d215-4843-aa16-f7a9260944fe",
   "metadata": {},
   "outputs": [
    {
     "data": {
      "text/plain": [
       "[2, 3, 6, 7]"
      ]
     },
     "execution_count": 698,
     "metadata": {},
     "output_type": "execute_result"
    }
   ],
   "source": [
    "a"
   ]
  },
  {
   "cell_type": "code",
   "execution_count": 699,
   "id": "60893670-55e4-4f41-9907-3b3787baecf5",
   "metadata": {},
   "outputs": [
    {
     "name": "stdin",
     "output_type": "stream",
     "text": [
      " 5\n"
     ]
    }
   ],
   "source": [
    "n = int(input())"
   ]
  },
  {
   "cell_type": "code",
   "execution_count": 700,
   "id": "7129ce1a-f339-41e4-9788-b92c01c38ff1",
   "metadata": {},
   "outputs": [
    {
     "name": "stdin",
     "output_type": "stream",
     "text": [
      " 1\n",
      " 2\n",
      " 3\n",
      " 4\n",
      " 5\n"
     ]
    }
   ],
   "source": [
    "for _ in range(n):\n",
    "    a.append(int(input()))"
   ]
  },
  {
   "cell_type": "code",
   "execution_count": null,
   "id": "11a21ae6-357e-4fbd-a412-de7b3d132898",
   "metadata": {},
   "outputs": [],
   "source": []
  }
 ],
 "metadata": {
  "kernelspec": {
   "display_name": "Python 3 (ipykernel)",
   "language": "python",
   "name": "python3"
  },
  "language_info": {
   "codemirror_mode": {
    "name": "ipython",
    "version": 3
   },
   "file_extension": ".py",
   "mimetype": "text/x-python",
   "name": "python",
   "nbconvert_exporter": "python",
   "pygments_lexer": "ipython3",
   "version": "3.8.5"
  }
 },
 "nbformat": 4,
 "nbformat_minor": 5
}
